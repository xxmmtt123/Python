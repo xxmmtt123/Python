{
 "cells": [
  {
   "cell_type": "markdown",
   "metadata": {},
   "source": [
    "The dataset is available from the UCI  https://archive.ics.uci.edu/ml/datasets/wine+quality"
   ]
  },
  {
   "cell_type": "code",
   "execution_count": 1,
   "metadata": {},
   "outputs": [],
   "source": [
    "import pandas as pd\n",
    "import numpy as np\n",
    "import seaborn as sns\n",
    "import matplotlib.pyplot as plt\n",
    "from sklearn.preprocessing import StandardScaler\n",
    "from sklearn.model_selection import train_test_split\n",
    "from sklearn.metrics import classification_report,confusion_matrix\n",
    "%matplotlib inline"
   ]
  },
  {
   "cell_type": "code",
   "execution_count": 2,
   "metadata": {},
   "outputs": [
    {
     "data": {
      "text/html": [
       "<div>\n",
       "<style scoped>\n",
       "    .dataframe tbody tr th:only-of-type {\n",
       "        vertical-align: middle;\n",
       "    }\n",
       "\n",
       "    .dataframe tbody tr th {\n",
       "        vertical-align: top;\n",
       "    }\n",
       "\n",
       "    .dataframe thead th {\n",
       "        text-align: right;\n",
       "    }\n",
       "</style>\n",
       "<table border=\"1\" class=\"dataframe\">\n",
       "  <thead>\n",
       "    <tr style=\"text-align: right;\">\n",
       "      <th></th>\n",
       "      <th>fixed acidity</th>\n",
       "      <th>volatile acidity</th>\n",
       "      <th>citric acid</th>\n",
       "      <th>residual sugar</th>\n",
       "      <th>chlorides</th>\n",
       "      <th>free sulfur dioxide</th>\n",
       "      <th>total sulfur dioxide</th>\n",
       "      <th>density</th>\n",
       "      <th>pH</th>\n",
       "      <th>sulphates</th>\n",
       "      <th>alcohol</th>\n",
       "      <th>quality</th>\n",
       "    </tr>\n",
       "  </thead>\n",
       "  <tbody>\n",
       "    <tr>\n",
       "      <td>0</td>\n",
       "      <td>7.4</td>\n",
       "      <td>0.700</td>\n",
       "      <td>0.00</td>\n",
       "      <td>1.9</td>\n",
       "      <td>0.076</td>\n",
       "      <td>11.0</td>\n",
       "      <td>34.0</td>\n",
       "      <td>0.99780</td>\n",
       "      <td>3.51</td>\n",
       "      <td>0.56</td>\n",
       "      <td>9.4</td>\n",
       "      <td>5</td>\n",
       "    </tr>\n",
       "    <tr>\n",
       "      <td>1</td>\n",
       "      <td>7.8</td>\n",
       "      <td>0.880</td>\n",
       "      <td>0.00</td>\n",
       "      <td>2.6</td>\n",
       "      <td>0.098</td>\n",
       "      <td>25.0</td>\n",
       "      <td>67.0</td>\n",
       "      <td>0.99680</td>\n",
       "      <td>3.20</td>\n",
       "      <td>0.68</td>\n",
       "      <td>9.8</td>\n",
       "      <td>5</td>\n",
       "    </tr>\n",
       "    <tr>\n",
       "      <td>2</td>\n",
       "      <td>7.8</td>\n",
       "      <td>0.760</td>\n",
       "      <td>0.04</td>\n",
       "      <td>2.3</td>\n",
       "      <td>0.092</td>\n",
       "      <td>15.0</td>\n",
       "      <td>54.0</td>\n",
       "      <td>0.99700</td>\n",
       "      <td>3.26</td>\n",
       "      <td>0.65</td>\n",
       "      <td>9.8</td>\n",
       "      <td>5</td>\n",
       "    </tr>\n",
       "    <tr>\n",
       "      <td>3</td>\n",
       "      <td>11.2</td>\n",
       "      <td>0.280</td>\n",
       "      <td>0.56</td>\n",
       "      <td>1.9</td>\n",
       "      <td>0.075</td>\n",
       "      <td>17.0</td>\n",
       "      <td>60.0</td>\n",
       "      <td>0.99800</td>\n",
       "      <td>3.16</td>\n",
       "      <td>0.58</td>\n",
       "      <td>9.8</td>\n",
       "      <td>6</td>\n",
       "    </tr>\n",
       "    <tr>\n",
       "      <td>4</td>\n",
       "      <td>7.4</td>\n",
       "      <td>0.700</td>\n",
       "      <td>0.00</td>\n",
       "      <td>1.9</td>\n",
       "      <td>0.076</td>\n",
       "      <td>11.0</td>\n",
       "      <td>34.0</td>\n",
       "      <td>0.99780</td>\n",
       "      <td>3.51</td>\n",
       "      <td>0.56</td>\n",
       "      <td>9.4</td>\n",
       "      <td>5</td>\n",
       "    </tr>\n",
       "    <tr>\n",
       "      <td>...</td>\n",
       "      <td>...</td>\n",
       "      <td>...</td>\n",
       "      <td>...</td>\n",
       "      <td>...</td>\n",
       "      <td>...</td>\n",
       "      <td>...</td>\n",
       "      <td>...</td>\n",
       "      <td>...</td>\n",
       "      <td>...</td>\n",
       "      <td>...</td>\n",
       "      <td>...</td>\n",
       "      <td>...</td>\n",
       "    </tr>\n",
       "    <tr>\n",
       "      <td>1594</td>\n",
       "      <td>6.2</td>\n",
       "      <td>0.600</td>\n",
       "      <td>0.08</td>\n",
       "      <td>2.0</td>\n",
       "      <td>0.090</td>\n",
       "      <td>32.0</td>\n",
       "      <td>44.0</td>\n",
       "      <td>0.99490</td>\n",
       "      <td>3.45</td>\n",
       "      <td>0.58</td>\n",
       "      <td>10.5</td>\n",
       "      <td>5</td>\n",
       "    </tr>\n",
       "    <tr>\n",
       "      <td>1595</td>\n",
       "      <td>5.9</td>\n",
       "      <td>0.550</td>\n",
       "      <td>0.10</td>\n",
       "      <td>2.2</td>\n",
       "      <td>0.062</td>\n",
       "      <td>39.0</td>\n",
       "      <td>51.0</td>\n",
       "      <td>0.99512</td>\n",
       "      <td>3.52</td>\n",
       "      <td>0.76</td>\n",
       "      <td>11.2</td>\n",
       "      <td>6</td>\n",
       "    </tr>\n",
       "    <tr>\n",
       "      <td>1596</td>\n",
       "      <td>6.3</td>\n",
       "      <td>0.510</td>\n",
       "      <td>0.13</td>\n",
       "      <td>2.3</td>\n",
       "      <td>0.076</td>\n",
       "      <td>29.0</td>\n",
       "      <td>40.0</td>\n",
       "      <td>0.99574</td>\n",
       "      <td>3.42</td>\n",
       "      <td>0.75</td>\n",
       "      <td>11.0</td>\n",
       "      <td>6</td>\n",
       "    </tr>\n",
       "    <tr>\n",
       "      <td>1597</td>\n",
       "      <td>5.9</td>\n",
       "      <td>0.645</td>\n",
       "      <td>0.12</td>\n",
       "      <td>2.0</td>\n",
       "      <td>0.075</td>\n",
       "      <td>32.0</td>\n",
       "      <td>44.0</td>\n",
       "      <td>0.99547</td>\n",
       "      <td>3.57</td>\n",
       "      <td>0.71</td>\n",
       "      <td>10.2</td>\n",
       "      <td>5</td>\n",
       "    </tr>\n",
       "    <tr>\n",
       "      <td>1598</td>\n",
       "      <td>6.0</td>\n",
       "      <td>0.310</td>\n",
       "      <td>0.47</td>\n",
       "      <td>3.6</td>\n",
       "      <td>0.067</td>\n",
       "      <td>18.0</td>\n",
       "      <td>42.0</td>\n",
       "      <td>0.99549</td>\n",
       "      <td>3.39</td>\n",
       "      <td>0.66</td>\n",
       "      <td>11.0</td>\n",
       "      <td>6</td>\n",
       "    </tr>\n",
       "  </tbody>\n",
       "</table>\n",
       "<p>1599 rows × 12 columns</p>\n",
       "</div>"
      ],
      "text/plain": [
       "      fixed acidity  volatile acidity  citric acid  residual sugar  chlorides  \\\n",
       "0               7.4             0.700         0.00             1.9      0.076   \n",
       "1               7.8             0.880         0.00             2.6      0.098   \n",
       "2               7.8             0.760         0.04             2.3      0.092   \n",
       "3              11.2             0.280         0.56             1.9      0.075   \n",
       "4               7.4             0.700         0.00             1.9      0.076   \n",
       "...             ...               ...          ...             ...        ...   \n",
       "1594            6.2             0.600         0.08             2.0      0.090   \n",
       "1595            5.9             0.550         0.10             2.2      0.062   \n",
       "1596            6.3             0.510         0.13             2.3      0.076   \n",
       "1597            5.9             0.645         0.12             2.0      0.075   \n",
       "1598            6.0             0.310         0.47             3.6      0.067   \n",
       "\n",
       "      free sulfur dioxide  total sulfur dioxide  density    pH  sulphates  \\\n",
       "0                    11.0                  34.0  0.99780  3.51       0.56   \n",
       "1                    25.0                  67.0  0.99680  3.20       0.68   \n",
       "2                    15.0                  54.0  0.99700  3.26       0.65   \n",
       "3                    17.0                  60.0  0.99800  3.16       0.58   \n",
       "4                    11.0                  34.0  0.99780  3.51       0.56   \n",
       "...                   ...                   ...      ...   ...        ...   \n",
       "1594                 32.0                  44.0  0.99490  3.45       0.58   \n",
       "1595                 39.0                  51.0  0.99512  3.52       0.76   \n",
       "1596                 29.0                  40.0  0.99574  3.42       0.75   \n",
       "1597                 32.0                  44.0  0.99547  3.57       0.71   \n",
       "1598                 18.0                  42.0  0.99549  3.39       0.66   \n",
       "\n",
       "      alcohol  quality  \n",
       "0         9.4        5  \n",
       "1         9.8        5  \n",
       "2         9.8        5  \n",
       "3         9.8        6  \n",
       "4         9.4        5  \n",
       "...       ...      ...  \n",
       "1594     10.5        5  \n",
       "1595     11.2        6  \n",
       "1596     11.0        6  \n",
       "1597     10.2        5  \n",
       "1598     11.0        6  \n",
       "\n",
       "[1599 rows x 12 columns]"
      ]
     },
     "execution_count": 2,
     "metadata": {},
     "output_type": "execute_result"
    }
   ],
   "source": [
    "# Load the data\n",
    "wine = pd.read_csv('datasets_4458_8204_winequality-red.csv')\n",
    "wine"
   ]
  },
  {
   "cell_type": "markdown",
   "metadata": {},
   "source": [
    "## Exploratory Data Analysis"
   ]
  },
  {
   "cell_type": "code",
   "execution_count": 3,
   "metadata": {},
   "outputs": [
    {
     "data": {
      "text/plain": [
       "<matplotlib.axes._subplots.AxesSubplot at 0x10a4b4450>"
      ]
     },
     "execution_count": 3,
     "metadata": {},
     "output_type": "execute_result"
    },
    {
     "data": {
      "image/png": "[encoded data removed]",
      "text/plain": [
       "<Figure size 432x288 with 1 Axes>"
      ]
     },
     "metadata": {
      "needs_background": "light"
     },
     "output_type": "display_data"
    }
   ],
   "source": [
    "sns.countplot(x='quality',data=wine)"
   ]
  },
  {
   "cell_type": "code",
   "execution_count": 7,
   "metadata": {},
   "outputs": [
    {
     "data": {
      "text/plain": [
       "3     10\n",
       "4     53\n",
       "5    681\n",
       "6    638\n",
       "7    199\n",
       "8     18\n",
       "Name: quality, dtype: int64"
      ]
     },
     "execution_count": 7,
     "metadata": {},
     "output_type": "execute_result"
    }
   ],
   "source": [
    "wine.quality.value_counts().sort_index()"
   ]
  },
  {
   "cell_type": "code",
   "execution_count": 8,
   "metadata": {},
   "outputs": [],
   "source": [
    "# Relable the quality\n",
    "lable = []\n",
    "for i in wine['quality']:\n",
    "    if i <= 4:\n",
    "        lable.append('0')\n",
    "    elif i > 4 and i <= 6:\n",
    "        lable.append('1')\n",
    "    elif i > 6 and i <= 8:\n",
    "        lable.append('2')\n",
    "wine['quality_lable'] = lable"
   ]
  },
  {
   "cell_type": "code",
   "execution_count": 9,
   "metadata": {},
   "outputs": [
    {
     "data": {
      "image/png": "[encoded data removed]",
      "text/plain": [
       "<Figure size 432x288 with 1 Axes>"
      ]
     },
     "metadata": {
      "needs_background": "light"
     },
     "output_type": "display_data"
    }
   ],
   "source": [
    "f,ax = plt.subplots()\n",
    "x = ['Low', 'Medium', 'High']\n",
    "sns.countplot(x='quality_lable',data=wine)\n",
    "ax.set_xticklabels(x)\n",
    "plt.show()"
   ]
  },
  {
   "cell_type": "code",
   "execution_count": 10,
   "metadata": {},
   "outputs": [
    {
     "data": {
      "text/plain": [
       "0      63\n",
       "1    1319\n",
       "2     217\n",
       "Name: quality_lable, dtype: int64"
      ]
     },
     "execution_count": 10,
     "metadata": {},
     "output_type": "execute_result"
    }
   ],
   "source": [
    "wine.quality_lable.value_counts().sort_index()"
   ]
  },
  {
   "cell_type": "code",
   "execution_count": 12,
   "metadata": {},
   "outputs": [
    {
     "data": {
      "image/png": "[encoded data removed]",
      "text/plain": [
       "<Figure size 432x288 with 1 Axes>"
      ]
     },
     "metadata": {
      "needs_background": "light"
     },
     "output_type": "display_data"
    }
   ],
   "source": [
    "f,ax = plt.subplots()\n",
    "x = ['Low', 'Medium', 'High']\n",
    "sns.boxplot(x='quality_lable',y='alcohol',data=wine)\n",
    "ax.set_xticklabels(x)\n",
    "plt.show()"
   ]
  },
  {
   "cell_type": "code",
   "execution_count": 13,
   "metadata": {},
   "outputs": [
    {
     "data": {
      "image/png": "[encoded data removed]",
      "text/plain": [
       "<Figure size 432x288 with 1 Axes>"
      ]
     },
     "metadata": {
      "needs_background": "light"
     },
     "output_type": "display_data"
    }
   ],
   "source": [
    "f,ax = plt.subplots()\n",
    "x = ['Low', 'Medium', 'High']\n",
    "sns.boxplot(x='quality_lable',y='volatile acidity',data=wine)\n",
    "ax.set_xticklabels(x) \n",
    "plt.show()"
   ]
  },
  {
   "cell_type": "code",
   "execution_count": 11,
   "metadata": {},
   "outputs": [
    {
     "data": {
      "text/plain": [
       "<matplotlib.axes._subplots.AxesSubplot at 0x10834e5d0>"
      ]
     },
     "execution_count": 11,
     "metadata": {},
     "output_type": "execute_result"
    },
    {
     "data": {
      "image/png": "[encoded data removed]",
      "text/plain": [
       "<Figure size 1080x576 with 2 Axes>"
      ]
     },
     "metadata": {
      "needs_background": "light"
     },
     "output_type": "display_data"
    }
   ],
   "source": [
    "plt.figure(figsize=(15,8))\n",
    "corr = wine.corr()\n",
    "sns.heatmap(round(corr,2), annot=True, linewidths=0.5, cmap='coolwarm')"
   ]
  },
  {
   "cell_type": "markdown",
   "metadata": {},
   "source": [
    "## Data Processing : Feature Scaling"
   ]
  },
  {
   "cell_type": "code",
   "execution_count": 14,
   "metadata": {},
   "outputs": [],
   "source": [
    "wine = wine.drop('quality',axis=1)\n",
    "target = wine['quality_lable']"
   ]
  },
  {
   "cell_type": "code",
   "execution_count": 15,
   "metadata": {},
   "outputs": [],
   "source": [
    "# Scale data\n",
    "scaled = StandardScaler()\n",
    "scaled.fit(wine.drop('quality_lable',axis=1))\n",
    "scaled_features = scaled.transform(wine.drop('quality_lable',axis=1))"
   ]
  },
  {
   "cell_type": "code",
   "execution_count": 16,
   "metadata": {},
   "outputs": [
    {
     "data": {
      "text/html": [
       "<div>\n",
       "<style scoped>\n",
       "    .dataframe tbody tr th:only-of-type {\n",
       "        vertical-align: middle;\n",
       "    }\n",
       "\n",
       "    .dataframe tbody tr th {\n",
       "        vertical-align: top;\n",
       "    }\n",
       "\n",
       "    .dataframe thead th {\n",
       "        text-align: right;\n",
       "    }\n",
       "</style>\n",
       "<table border=\"1\" class=\"dataframe\">\n",
       "  <thead>\n",
       "    <tr style=\"text-align: right;\">\n",
       "      <th></th>\n",
       "      <th>fixed acidity</th>\n",
       "      <th>volatile acidity</th>\n",
       "      <th>citric acid</th>\n",
       "      <th>residual sugar</th>\n",
       "      <th>chlorides</th>\n",
       "      <th>free sulfur dioxide</th>\n",
       "      <th>total sulfur dioxide</th>\n",
       "      <th>density</th>\n",
       "      <th>pH</th>\n",
       "      <th>sulphates</th>\n",
       "      <th>alcohol</th>\n",
       "    </tr>\n",
       "  </thead>\n",
       "  <tbody>\n",
       "    <tr>\n",
       "      <td>0</td>\n",
       "      <td>-0.528360</td>\n",
       "      <td>0.961877</td>\n",
       "      <td>-1.391472</td>\n",
       "      <td>-0.453218</td>\n",
       "      <td>-0.243707</td>\n",
       "      <td>-0.466193</td>\n",
       "      <td>-0.379133</td>\n",
       "      <td>0.558274</td>\n",
       "      <td>1.288643</td>\n",
       "      <td>-0.579207</td>\n",
       "      <td>-0.960246</td>\n",
       "    </tr>\n",
       "    <tr>\n",
       "      <td>1</td>\n",
       "      <td>-0.298547</td>\n",
       "      <td>1.967442</td>\n",
       "      <td>-1.391472</td>\n",
       "      <td>0.043416</td>\n",
       "      <td>0.223875</td>\n",
       "      <td>0.872638</td>\n",
       "      <td>0.624363</td>\n",
       "      <td>0.028261</td>\n",
       "      <td>-0.719933</td>\n",
       "      <td>0.128950</td>\n",
       "      <td>-0.584777</td>\n",
       "    </tr>\n",
       "    <tr>\n",
       "      <td>2</td>\n",
       "      <td>-0.298547</td>\n",
       "      <td>1.297065</td>\n",
       "      <td>-1.186070</td>\n",
       "      <td>-0.169427</td>\n",
       "      <td>0.096353</td>\n",
       "      <td>-0.083669</td>\n",
       "      <td>0.229047</td>\n",
       "      <td>0.134264</td>\n",
       "      <td>-0.331177</td>\n",
       "      <td>-0.048089</td>\n",
       "      <td>-0.584777</td>\n",
       "    </tr>\n",
       "    <tr>\n",
       "      <td>3</td>\n",
       "      <td>1.654856</td>\n",
       "      <td>-1.384443</td>\n",
       "      <td>1.484154</td>\n",
       "      <td>-0.453218</td>\n",
       "      <td>-0.264960</td>\n",
       "      <td>0.107592</td>\n",
       "      <td>0.411500</td>\n",
       "      <td>0.664277</td>\n",
       "      <td>-0.979104</td>\n",
       "      <td>-0.461180</td>\n",
       "      <td>-0.584777</td>\n",
       "    </tr>\n",
       "    <tr>\n",
       "      <td>4</td>\n",
       "      <td>-0.528360</td>\n",
       "      <td>0.961877</td>\n",
       "      <td>-1.391472</td>\n",
       "      <td>-0.453218</td>\n",
       "      <td>-0.243707</td>\n",
       "      <td>-0.466193</td>\n",
       "      <td>-0.379133</td>\n",
       "      <td>0.558274</td>\n",
       "      <td>1.288643</td>\n",
       "      <td>-0.579207</td>\n",
       "      <td>-0.960246</td>\n",
       "    </tr>\n",
       "    <tr>\n",
       "      <td>...</td>\n",
       "      <td>...</td>\n",
       "      <td>...</td>\n",
       "      <td>...</td>\n",
       "      <td>...</td>\n",
       "      <td>...</td>\n",
       "      <td>...</td>\n",
       "      <td>...</td>\n",
       "      <td>...</td>\n",
       "      <td>...</td>\n",
       "      <td>...</td>\n",
       "      <td>...</td>\n",
       "    </tr>\n",
       "    <tr>\n",
       "      <td>1594</td>\n",
       "      <td>-1.217796</td>\n",
       "      <td>0.403229</td>\n",
       "      <td>-0.980669</td>\n",
       "      <td>-0.382271</td>\n",
       "      <td>0.053845</td>\n",
       "      <td>1.542054</td>\n",
       "      <td>-0.075043</td>\n",
       "      <td>-0.978765</td>\n",
       "      <td>0.899886</td>\n",
       "      <td>-0.461180</td>\n",
       "      <td>0.072294</td>\n",
       "    </tr>\n",
       "    <tr>\n",
       "      <td>1595</td>\n",
       "      <td>-1.390155</td>\n",
       "      <td>0.123905</td>\n",
       "      <td>-0.877968</td>\n",
       "      <td>-0.240375</td>\n",
       "      <td>-0.541259</td>\n",
       "      <td>2.211469</td>\n",
       "      <td>0.137820</td>\n",
       "      <td>-0.862162</td>\n",
       "      <td>1.353436</td>\n",
       "      <td>0.601055</td>\n",
       "      <td>0.729364</td>\n",
       "    </tr>\n",
       "    <tr>\n",
       "      <td>1596</td>\n",
       "      <td>-1.160343</td>\n",
       "      <td>-0.099554</td>\n",
       "      <td>-0.723916</td>\n",
       "      <td>-0.169427</td>\n",
       "      <td>-0.243707</td>\n",
       "      <td>1.255161</td>\n",
       "      <td>-0.196679</td>\n",
       "      <td>-0.533554</td>\n",
       "      <td>0.705508</td>\n",
       "      <td>0.542042</td>\n",
       "      <td>0.541630</td>\n",
       "    </tr>\n",
       "    <tr>\n",
       "      <td>1597</td>\n",
       "      <td>-1.390155</td>\n",
       "      <td>0.654620</td>\n",
       "      <td>-0.775267</td>\n",
       "      <td>-0.382271</td>\n",
       "      <td>-0.264960</td>\n",
       "      <td>1.542054</td>\n",
       "      <td>-0.075043</td>\n",
       "      <td>-0.676657</td>\n",
       "      <td>1.677400</td>\n",
       "      <td>0.305990</td>\n",
       "      <td>-0.209308</td>\n",
       "    </tr>\n",
       "    <tr>\n",
       "      <td>1598</td>\n",
       "      <td>-1.332702</td>\n",
       "      <td>-1.216849</td>\n",
       "      <td>1.021999</td>\n",
       "      <td>0.752894</td>\n",
       "      <td>-0.434990</td>\n",
       "      <td>0.203223</td>\n",
       "      <td>-0.135861</td>\n",
       "      <td>-0.666057</td>\n",
       "      <td>0.511130</td>\n",
       "      <td>0.010924</td>\n",
       "      <td>0.541630</td>\n",
       "    </tr>\n",
       "  </tbody>\n",
       "</table>\n",
       "<p>1599 rows × 11 columns</p>\n",
       "</div>"
      ],
      "text/plain": [
       "      fixed acidity  volatile acidity  citric acid  residual sugar  chlorides  \\\n",
       "0         -0.528360          0.961877    -1.391472       -0.453218  -0.243707   \n",
       "1         -0.298547          1.967442    -1.391472        0.043416   0.223875   \n",
       "2         -0.298547          1.297065    -1.186070       -0.169427   0.096353   \n",
       "3          1.654856         -1.384443     1.484154       -0.453218  -0.264960   \n",
       "4         -0.528360          0.961877    -1.391472       -0.453218  -0.243707   \n",
       "...             ...               ...          ...             ...        ...   \n",
       "1594      -1.217796          0.403229    -0.980669       -0.382271   0.053845   \n",
       "1595      -1.390155          0.123905    -0.877968       -0.240375  -0.541259   \n",
       "1596      -1.160343         -0.099554    -0.723916       -0.169427  -0.243707   \n",
       "1597      -1.390155          0.654620    -0.775267       -0.382271  -0.264960   \n",
       "1598      -1.332702         -1.216849     1.021999        0.752894  -0.434990   \n",
       "\n",
       "      free sulfur dioxide  total sulfur dioxide   density        pH  \\\n",
       "0               -0.466193             -0.379133  0.558274  1.288643   \n",
       "1                0.872638              0.624363  0.028261 -0.719933   \n",
       "2               -0.083669              0.229047  0.134264 -0.331177   \n",
       "3                0.107592              0.411500  0.664277 -0.979104   \n",
       "4               -0.466193             -0.379133  0.558274  1.288643   \n",
       "...                   ...                   ...       ...       ...   \n",
       "1594             1.542054             -0.075043 -0.978765  0.899886   \n",
       "1595             2.211469              0.137820 -0.862162  1.353436   \n",
       "1596             1.255161             -0.196679 -0.533554  0.705508   \n",
       "1597             1.542054             -0.075043 -0.676657  1.677400   \n",
       "1598             0.203223             -0.135861 -0.666057  0.511130   \n",
       "\n",
       "      sulphates   alcohol  \n",
       "0     -0.579207 -0.960246  \n",
       "1      0.128950 -0.584777  \n",
       "2     -0.048089 -0.584777  \n",
       "3     -0.461180 -0.584777  \n",
       "4     -0.579207 -0.960246  \n",
       "...         ...       ...  \n",
       "1594  -0.461180  0.072294  \n",
       "1595   0.601055  0.729364  \n",
       "1596   0.542042  0.541630  \n",
       "1597   0.305990 -0.209308  \n",
       "1598   0.010924  0.541630  \n",
       "\n",
       "[1599 rows x 11 columns]"
      ]
     },
     "execution_count": 16,
     "metadata": {},
     "output_type": "execute_result"
    }
   ],
   "source": [
    "wine = pd.DataFrame(scaled_features,columns=wine.columns[:-1,])\n",
    "wine"
   ]
  },
  {
   "cell_type": "markdown",
   "metadata": {},
   "source": [
    "## Model Creation and Evaluation"
   ]
  },
  {
   "cell_type": "code",
   "execution_count": 17,
   "metadata": {},
   "outputs": [
    {
     "data": {
      "text/html": [
       "<div>\n",
       "<style scoped>\n",
       "    .dataframe tbody tr th:only-of-type {\n",
       "        vertical-align: middle;\n",
       "    }\n",
       "\n",
       "    .dataframe tbody tr th {\n",
       "        vertical-align: top;\n",
       "    }\n",
       "\n",
       "    .dataframe thead th {\n",
       "        text-align: right;\n",
       "    }\n",
       "</style>\n",
       "<table border=\"1\" class=\"dataframe\">\n",
       "  <thead>\n",
       "    <tr style=\"text-align: right;\">\n",
       "      <th></th>\n",
       "      <th>fixed acidity</th>\n",
       "      <th>volatile acidity</th>\n",
       "      <th>citric acid</th>\n",
       "      <th>residual sugar</th>\n",
       "      <th>chlorides</th>\n",
       "      <th>free sulfur dioxide</th>\n",
       "      <th>total sulfur dioxide</th>\n",
       "      <th>density</th>\n",
       "      <th>pH</th>\n",
       "      <th>sulphates</th>\n",
       "      <th>alcohol</th>\n",
       "    </tr>\n",
       "  </thead>\n",
       "  <tbody>\n",
       "    <tr>\n",
       "      <td>1109</td>\n",
       "      <td>1.425044</td>\n",
       "      <td>-0.323013</td>\n",
       "      <td>0.816598</td>\n",
       "      <td>-0.311323</td>\n",
       "      <td>1.775397</td>\n",
       "      <td>1.063900</td>\n",
       "      <td>0.593954</td>\n",
       "      <td>0.770280</td>\n",
       "      <td>-0.914312</td>\n",
       "      <td>0.601055</td>\n",
       "      <td>0.353895</td>\n",
       "    </tr>\n",
       "    <tr>\n",
       "      <td>1032</td>\n",
       "      <td>-0.126188</td>\n",
       "      <td>1.632254</td>\n",
       "      <td>-1.391472</td>\n",
       "      <td>1.107633</td>\n",
       "      <td>0.160114</td>\n",
       "      <td>-1.039977</td>\n",
       "      <td>-0.987312</td>\n",
       "      <td>0.950485</td>\n",
       "      <td>0.316751</td>\n",
       "      <td>-0.756246</td>\n",
       "      <td>-0.772512</td>\n",
       "    </tr>\n",
       "    <tr>\n",
       "      <td>1002</td>\n",
       "      <td>0.448342</td>\n",
       "      <td>-1.328579</td>\n",
       "      <td>0.303093</td>\n",
       "      <td>-0.346797</td>\n",
       "      <td>-0.520005</td>\n",
       "      <td>-0.274931</td>\n",
       "      <td>-0.591995</td>\n",
       "      <td>-0.840962</td>\n",
       "      <td>-0.331177</td>\n",
       "      <td>1.073160</td>\n",
       "      <td>1.198701</td>\n",
       "    </tr>\n",
       "    <tr>\n",
       "      <td>487</td>\n",
       "      <td>1.080326</td>\n",
       "      <td>0.654620</td>\n",
       "      <td>0.457144</td>\n",
       "      <td>-0.524166</td>\n",
       "      <td>-0.732542</td>\n",
       "      <td>-1.039977</td>\n",
       "      <td>-0.987312</td>\n",
       "      <td>0.770280</td>\n",
       "      <td>-0.914312</td>\n",
       "      <td>-1.405390</td>\n",
       "      <td>-0.397043</td>\n",
       "    </tr>\n",
       "    <tr>\n",
       "      <td>979</td>\n",
       "      <td>2.229387</td>\n",
       "      <td>-0.434742</td>\n",
       "      <td>1.124700</td>\n",
       "      <td>-0.807957</td>\n",
       "      <td>-0.264960</td>\n",
       "      <td>-1.231239</td>\n",
       "      <td>-1.230584</td>\n",
       "      <td>0.081262</td>\n",
       "      <td>-1.173483</td>\n",
       "      <td>-0.166115</td>\n",
       "      <td>-0.021574</td>\n",
       "    </tr>\n",
       "    <tr>\n",
       "      <td>...</td>\n",
       "      <td>...</td>\n",
       "      <td>...</td>\n",
       "      <td>...</td>\n",
       "      <td>...</td>\n",
       "      <td>...</td>\n",
       "      <td>...</td>\n",
       "      <td>...</td>\n",
       "      <td>...</td>\n",
       "      <td>...</td>\n",
       "      <td>...</td>\n",
       "      <td>...</td>\n",
       "    </tr>\n",
       "    <tr>\n",
       "      <td>801</td>\n",
       "      <td>0.161077</td>\n",
       "      <td>0.123905</td>\n",
       "      <td>-0.929318</td>\n",
       "      <td>0.540051</td>\n",
       "      <td>-0.413736</td>\n",
       "      <td>-0.753085</td>\n",
       "      <td>-0.896085</td>\n",
       "      <td>0.319768</td>\n",
       "      <td>-0.525555</td>\n",
       "      <td>-1.287363</td>\n",
       "      <td>-0.397043</td>\n",
       "    </tr>\n",
       "    <tr>\n",
       "      <td>61</td>\n",
       "      <td>-0.356000</td>\n",
       "      <td>0.906012</td>\n",
       "      <td>1.124700</td>\n",
       "      <td>-0.524166</td>\n",
       "      <td>0.585188</td>\n",
       "      <td>0.394484</td>\n",
       "      <td>1.992767</td>\n",
       "      <td>0.028261</td>\n",
       "      <td>-0.655141</td>\n",
       "      <td>0.305990</td>\n",
       "      <td>-1.054113</td>\n",
       "    </tr>\n",
       "    <tr>\n",
       "      <td>431</td>\n",
       "      <td>-0.298547</td>\n",
       "      <td>0.123905</td>\n",
       "      <td>0.405794</td>\n",
       "      <td>-0.240375</td>\n",
       "      <td>-0.286214</td>\n",
       "      <td>0.490115</td>\n",
       "      <td>0.593954</td>\n",
       "      <td>0.346269</td>\n",
       "      <td>-0.395969</td>\n",
       "      <td>-0.579207</td>\n",
       "      <td>-1.147981</td>\n",
       "    </tr>\n",
       "    <tr>\n",
       "      <td>1210</td>\n",
       "      <td>-0.873078</td>\n",
       "      <td>0.682553</td>\n",
       "      <td>-1.288771</td>\n",
       "      <td>-0.311323</td>\n",
       "      <td>-0.201199</td>\n",
       "      <td>-0.753085</td>\n",
       "      <td>-0.956903</td>\n",
       "      <td>-0.936364</td>\n",
       "      <td>0.251958</td>\n",
       "      <td>-0.225128</td>\n",
       "      <td>-0.021574</td>\n",
       "    </tr>\n",
       "    <tr>\n",
       "      <td>713</td>\n",
       "      <td>-0.183641</td>\n",
       "      <td>-0.546472</td>\n",
       "      <td>0.457144</td>\n",
       "      <td>-0.169427</td>\n",
       "      <td>-0.264960</td>\n",
       "      <td>-0.561823</td>\n",
       "      <td>0.046593</td>\n",
       "      <td>0.452272</td>\n",
       "      <td>0.187166</td>\n",
       "      <td>-1.169337</td>\n",
       "      <td>-0.960246</td>\n",
       "    </tr>\n",
       "  </tbody>\n",
       "</table>\n",
       "<p>480 rows × 11 columns</p>\n",
       "</div>"
      ],
      "text/plain": [
       "      fixed acidity  volatile acidity  citric acid  residual sugar  chlorides  \\\n",
       "1109       1.425044         -0.323013     0.816598       -0.311323   1.775397   \n",
       "1032      -0.126188          1.632254    -1.391472        1.107633   0.160114   \n",
       "1002       0.448342         -1.328579     0.303093       -0.346797  -0.520005   \n",
       "487        1.080326          0.654620     0.457144       -0.524166  -0.732542   \n",
       "979        2.229387         -0.434742     1.124700       -0.807957  -0.264960   \n",
       "...             ...               ...          ...             ...        ...   \n",
       "801        0.161077          0.123905    -0.929318        0.540051  -0.413736   \n",
       "61        -0.356000          0.906012     1.124700       -0.524166   0.585188   \n",
       "431       -0.298547          0.123905     0.405794       -0.240375  -0.286214   \n",
       "1210      -0.873078          0.682553    -1.288771       -0.311323  -0.201199   \n",
       "713       -0.183641         -0.546472     0.457144       -0.169427  -0.264960   \n",
       "\n",
       "      free sulfur dioxide  total sulfur dioxide   density        pH  \\\n",
       "1109             1.063900              0.593954  0.770280 -0.914312   \n",
       "1032            -1.039977             -0.987312  0.950485  0.316751   \n",
       "1002            -0.274931             -0.591995 -0.840962 -0.331177   \n",
       "487             -1.039977             -0.987312  0.770280 -0.914312   \n",
       "979             -1.231239             -1.230584  0.081262 -1.173483   \n",
       "...                   ...                   ...       ...       ...   \n",
       "801             -0.753085             -0.896085  0.319768 -0.525555   \n",
       "61               0.394484              1.992767  0.028261 -0.655141   \n",
       "431              0.490115              0.593954  0.346269 -0.395969   \n",
       "1210            -0.753085             -0.956903 -0.936364  0.251958   \n",
       "713             -0.561823              0.046593  0.452272  0.187166   \n",
       "\n",
       "      sulphates   alcohol  \n",
       "1109   0.601055  0.353895  \n",
       "1032  -0.756246 -0.772512  \n",
       "1002   1.073160  1.198701  \n",
       "487   -1.405390 -0.397043  \n",
       "979   -0.166115 -0.021574  \n",
       "...         ...       ...  \n",
       "801   -1.287363 -0.397043  \n",
       "61     0.305990 -1.054113  \n",
       "431   -0.579207 -1.147981  \n",
       "1210  -0.225128 -0.021574  \n",
       "713   -1.169337 -0.960246  \n",
       "\n",
       "[480 rows x 11 columns]"
      ]
     },
     "execution_count": 17,
     "metadata": {},
     "output_type": "execute_result"
    }
   ],
   "source": [
    "# Build the training and testing datasets\n",
    "x_train, x_test, y_train, y_test = train_test_split(wine, target, test_size=0.3, random_state=0)\n",
    "x_test"
   ]
  },
  {
   "cell_type": "markdown",
   "metadata": {},
   "source": [
    "### Decision Tree"
   ]
  },
  {
   "cell_type": "code",
   "execution_count": 18,
   "metadata": {},
   "outputs": [],
   "source": [
    "from sklearn import tree\n",
    "DT = tree.DecisionTreeClassifier()\n",
    "DT.fit(x_train,y_train)\n",
    "pred_DT = DT.predict(x_test)"
   ]
  },
  {
   "cell_type": "code",
   "execution_count": 19,
   "metadata": {},
   "outputs": [
    {
     "name": "stdout",
     "output_type": "stream",
     "text": [
      "[[  3  13   2]\n",
      " [  9 372  31]\n",
      " [  0  19  31]]\n",
      "              precision    recall  f1-score   support\n",
      "\n",
      "           0       0.25      0.17      0.20        18\n",
      "           1       0.92      0.90      0.91       412\n",
      "           2       0.48      0.62      0.54        50\n",
      "\n",
      "    accuracy                           0.85       480\n",
      "   macro avg       0.55      0.56      0.55       480\n",
      "weighted avg       0.85      0.85      0.85       480\n",
      "\n"
     ]
    }
   ],
   "source": [
    "print(confusion_matrix(y_test,pred_DT))\n",
    "print(classification_report(y_test, pred_DT))"
   ]
  },
  {
   "cell_type": "code",
   "execution_count": 40,
   "metadata": {},
   "outputs": [
    {
     "data": {
      "image/svg+xml": [
       "<?xml version=\"1.0\" encoding=\"UTF-8\" standalone=\"no\"?>\n",
       "<!DOCTYPE svg PUBLIC \"-//W3C//DTD SVG 1.1//EN\"\n",
       " \"http://www.w3.org/Graphics/SVG/1.1/DTD/svg11.dtd\">\n",
       "<!-- Generated by graphviz version 2.40.1 (20161225.0304)\n",
       " -->\n",
       "<!-- Title: Tree Pages: 1 -->\n",
       "<svg width=\"1018pt\" height=\"520pt\"\n",
       " viewBox=\"0.00 0.00 1018.00 520.00\" xmlns=\"http://www.w3.org/2000/svg\" xmlns:xlink=\"http://www.w3.org/1999/xlink\">\n",
       "<g id=\"graph0\" class=\"graph\" transform=\"scale(1 1) rotate(0) translate(4 516)\">\n",
       "<title>Tree</title>\n",
       "<polygon fill=\"#ffffff\" stroke=\"transparent\" points=\"-4,4 -4,-516 1014,-516 1014,4 -4,4\"/>\n",
       "<!-- 0 -->\n",
       "<g id=\"node1\" class=\"node\">\n",
       "<title>0</title>\n",
       "<path fill=\"#65eb9d\" stroke=\"#000000\" d=\"M554,-512C554,-512 426,-512 426,-512 420,-512 414,-506 414,-500 414,-500 414,-441 414,-441 414,-435 420,-429 426,-429 426,-429 554,-429 554,-429 560,-429 566,-435 566,-441 566,-441 566,-500 566,-500 566,-506 560,-512 554,-512\"/>\n",
       "<text text-anchor=\"start\" x=\"442.5\" y=\"-496.8\" font-family=\"Helvetica,sans-Serif\" font-size=\"14.00\" fill=\"#000000\">alcohol ≤ 0.096</text>\n",
       "<text text-anchor=\"start\" x=\"453.5\" y=\"-481.8\" font-family=\"Helvetica,sans-Serif\" font-size=\"14.00\" fill=\"#000000\">gini = 0.319</text>\n",
       "<text text-anchor=\"start\" x=\"440\" y=\"-466.8\" font-family=\"Helvetica,sans-Serif\" font-size=\"14.00\" fill=\"#000000\">samples = 1119</text>\n",
       "<text text-anchor=\"start\" x=\"422\" y=\"-451.8\" font-family=\"Helvetica,sans-Serif\" font-size=\"14.00\" fill=\"#000000\">value = [45, 907, 167]</text>\n",
       "<text text-anchor=\"start\" x=\"441\" y=\"-436.8\" font-family=\"Helvetica,sans-Serif\" font-size=\"14.00\" fill=\"#000000\">class = Medium</text>\n",
       "</g>\n",
       "<!-- 1 -->\n",
       "<g id=\"node2\" class=\"node\">\n",
       "<title>1</title>\n",
       "<path fill=\"#4ae78c\" stroke=\"#000000\" d=\"M455,-393C455,-393 335,-393 335,-393 329,-393 323,-387 323,-381 323,-381 323,-322 323,-322 323,-316 329,-310 335,-310 335,-310 455,-310 455,-310 461,-310 467,-316 467,-322 467,-322 467,-381 467,-381 467,-387 461,-393 455,-393\"/>\n",
       "<text text-anchor=\"start\" x=\"333\" y=\"-377.8\" font-family=\"Helvetica,sans-Serif\" font-size=\"14.00\" fill=\"#000000\">fixed acidity ≤ 3.637</text>\n",
       "<text text-anchor=\"start\" x=\"358.5\" y=\"-362.8\" font-family=\"Helvetica,sans-Serif\" font-size=\"14.00\" fill=\"#000000\">gini = 0.158</text>\n",
       "<text text-anchor=\"start\" x=\"349\" y=\"-347.8\" font-family=\"Helvetica,sans-Serif\" font-size=\"14.00\" fill=\"#000000\">samples = 690</text>\n",
       "<text text-anchor=\"start\" x=\"331\" y=\"-332.8\" font-family=\"Helvetica,sans-Serif\" font-size=\"14.00\" fill=\"#000000\">value = [27, 632, 31]</text>\n",
       "<text text-anchor=\"start\" x=\"346\" y=\"-317.8\" font-family=\"Helvetica,sans-Serif\" font-size=\"14.00\" fill=\"#000000\">class = Medium</text>\n",
       "</g>\n",
       "<!-- 0&#45;&gt;1 -->\n",
       "<g id=\"edge1\" class=\"edge\">\n",
       "<title>0&#45;&gt;1</title>\n",
       "<path fill=\"none\" stroke=\"#000000\" d=\"M456.7736,-428.8796C449.6556,-419.9633 442.0661,-410.4565 434.7308,-401.268\"/>\n",
       "<polygon fill=\"#000000\" stroke=\"#000000\" points=\"437.3425,-398.9295 428.3682,-393.2981 431.8719,-403.2968 437.3425,-398.9295\"/>\n",
       "<text text-anchor=\"middle\" x=\"425.5819\" y=\"-414.4423\" font-family=\"Helvetica,sans-Serif\" font-size=\"14.00\" fill=\"#000000\">True</text>\n",
       "</g>\n",
       "<!-- 140 -->\n",
       "<g id=\"node11\" class=\"node\">\n",
       "<title>140</title>\n",
       "<path fill=\"#a1f3c3\" stroke=\"#000000\" d=\"M638.5,-393C638.5,-393 503.5,-393 503.5,-393 497.5,-393 491.5,-387 491.5,-381 491.5,-381 491.5,-322 491.5,-322 491.5,-316 497.5,-310 503.5,-310 503.5,-310 638.5,-310 638.5,-310 644.5,-310 650.5,-316 650.5,-322 650.5,-322 650.5,-381 650.5,-381 650.5,-387 644.5,-393 638.5,-393\"/>\n",
       "<text text-anchor=\"start\" x=\"499.5\" y=\"-377.8\" font-family=\"Helvetica,sans-Serif\" font-size=\"14.00\" fill=\"#000000\">volatile acidity ≤ &#45;0.574</text>\n",
       "<text text-anchor=\"start\" x=\"534.5\" y=\"-362.8\" font-family=\"Helvetica,sans-Serif\" font-size=\"14.00\" fill=\"#000000\">gini = 0.487</text>\n",
       "<text text-anchor=\"start\" x=\"525\" y=\"-347.8\" font-family=\"Helvetica,sans-Serif\" font-size=\"14.00\" fill=\"#000000\">samples = 429</text>\n",
       "<text text-anchor=\"start\" x=\"503\" y=\"-332.8\" font-family=\"Helvetica,sans-Serif\" font-size=\"14.00\" fill=\"#000000\">value = [18, 275, 136]</text>\n",
       "<text text-anchor=\"start\" x=\"522\" y=\"-317.8\" font-family=\"Helvetica,sans-Serif\" font-size=\"14.00\" fill=\"#000000\">class = Medium</text>\n",
       "</g>\n",
       "<!-- 0&#45;&gt;140 -->\n",
       "<g id=\"edge10\" class=\"edge\">\n",
       "<title>0&#45;&gt;140</title>\n",
       "<path fill=\"none\" stroke=\"#000000\" d=\"M518.3299,-428.8796C524.2763,-420.1434 530.6086,-410.8404 536.745,-401.8253\"/>\n",
       "<polygon fill=\"#000000\" stroke=\"#000000\" points=\"539.8156,-403.5342 542.5492,-393.2981 534.0289,-399.5953 539.8156,-403.5342\"/>\n",
       "<text text-anchor=\"middle\" x=\"547.2157\" y=\"-414.1587\" font-family=\"Helvetica,sans-Serif\" font-size=\"14.00\" fill=\"#000000\">False</text>\n",
       "</g>\n",
       "<!-- 2 -->\n",
       "<g id=\"node3\" class=\"node\">\n",
       "<title>2</title>\n",
       "<path fill=\"#4ae78c\" stroke=\"#000000\" d=\"M303,-274C303,-274 167,-274 167,-274 161,-274 155,-268 155,-262 155,-262 155,-203 155,-203 155,-197 161,-191 167,-191 167,-191 303,-191 303,-191 309,-191 315,-197 315,-203 315,-203 315,-262 315,-262 315,-268 309,-274 303,-274\"/>\n",
       "<text text-anchor=\"start\" x=\"163\" y=\"-258.8\" font-family=\"Helvetica,sans-Serif\" font-size=\"14.00\" fill=\"#000000\">residual sugar ≤ &#45;0.702</text>\n",
       "<text text-anchor=\"start\" x=\"198.5\" y=\"-243.8\" font-family=\"Helvetica,sans-Serif\" font-size=\"14.00\" fill=\"#000000\">gini = 0.153</text>\n",
       "<text text-anchor=\"start\" x=\"189\" y=\"-228.8\" font-family=\"Helvetica,sans-Serif\" font-size=\"14.00\" fill=\"#000000\">samples = 688</text>\n",
       "<text text-anchor=\"start\" x=\"171\" y=\"-213.8\" font-family=\"Helvetica,sans-Serif\" font-size=\"14.00\" fill=\"#000000\">value = [27, 632, 29]</text>\n",
       "<text text-anchor=\"start\" x=\"186\" y=\"-198.8\" font-family=\"Helvetica,sans-Serif\" font-size=\"14.00\" fill=\"#000000\">class = Medium</text>\n",
       "</g>\n",
       "<!-- 1&#45;&gt;2 -->\n",
       "<g id=\"edge2\" class=\"edge\">\n",
       "<title>1&#45;&gt;2</title>\n",
       "<path fill=\"none\" stroke=\"#000000\" d=\"M339.0398,-309.8796C326.1292,-300.2774 312.2979,-289.9903 299.0718,-280.1534\"/>\n",
       "<polygon fill=\"#000000\" stroke=\"#000000\" points=\"301.0414,-277.2564 290.9286,-274.0969 296.8639,-282.8732 301.0414,-277.2564\"/>\n",
       "</g>\n",
       "<!-- 139 -->\n",
       "<g id=\"node10\" class=\"node\">\n",
       "<title>139</title>\n",
       "<path fill=\"#8139e5\" stroke=\"#000000\" d=\"M439.5,-266.5C439.5,-266.5 350.5,-266.5 350.5,-266.5 344.5,-266.5 338.5,-260.5 338.5,-254.5 338.5,-254.5 338.5,-210.5 338.5,-210.5 338.5,-204.5 344.5,-198.5 350.5,-198.5 350.5,-198.5 439.5,-198.5 439.5,-198.5 445.5,-198.5 451.5,-204.5 451.5,-210.5 451.5,-210.5 451.5,-254.5 451.5,-254.5 451.5,-260.5 445.5,-266.5 439.5,-266.5\"/>\n",
       "<text text-anchor=\"start\" x=\"366\" y=\"-251.3\" font-family=\"Helvetica,sans-Serif\" font-size=\"14.00\" fill=\"#000000\">gini = 0.0</text>\n",
       "<text text-anchor=\"start\" x=\"357\" y=\"-236.3\" font-family=\"Helvetica,sans-Serif\" font-size=\"14.00\" fill=\"#000000\">samples = 2</text>\n",
       "<text text-anchor=\"start\" x=\"346.5\" y=\"-221.3\" font-family=\"Helvetica,sans-Serif\" font-size=\"14.00\" fill=\"#000000\">value = [0, 0, 2]</text>\n",
       "<text text-anchor=\"start\" x=\"356.5\" y=\"-206.3\" font-family=\"Helvetica,sans-Serif\" font-size=\"14.00\" fill=\"#000000\">class = High</text>\n",
       "</g>\n",
       "<!-- 1&#45;&gt;139 -->\n",
       "<g id=\"edge9\" class=\"edge\">\n",
       "<title>1&#45;&gt;139</title>\n",
       "<path fill=\"none\" stroke=\"#000000\" d=\"M395,-309.8796C395,-299.2134 395,-287.7021 395,-276.9015\"/>\n",
       "<polygon fill=\"#000000\" stroke=\"#000000\" points=\"398.5001,-276.8149 395,-266.8149 391.5001,-276.815 398.5001,-276.8149\"/>\n",
       "</g>\n",
       "<!-- 3 -->\n",
       "<g id=\"node4\" class=\"node\">\n",
       "<title>3</title>\n",
       "<path fill=\"#82efaf\" stroke=\"#000000\" d=\"M112.5,-155C112.5,-155 13.5,-155 13.5,-155 7.5,-155 1.5,-149 1.5,-143 1.5,-143 1.5,-84 1.5,-84 1.5,-78 7.5,-72 13.5,-72 13.5,-72 112.5,-72 112.5,-72 118.5,-72 124.5,-78 124.5,-84 124.5,-84 124.5,-143 124.5,-143 124.5,-149 118.5,-155 112.5,-155\"/>\n",
       "<text text-anchor=\"start\" x=\"9.5\" y=\"-139.8\" font-family=\"Helvetica,sans-Serif\" font-size=\"14.00\" fill=\"#000000\">chlorides ≤ 0.702</text>\n",
       "<text text-anchor=\"start\" x=\"26.5\" y=\"-124.8\" font-family=\"Helvetica,sans-Serif\" font-size=\"14.00\" fill=\"#000000\">gini = 0.471</text>\n",
       "<text text-anchor=\"start\" x=\"21\" y=\"-109.8\" font-family=\"Helvetica,sans-Serif\" font-size=\"14.00\" fill=\"#000000\">samples = 36</text>\n",
       "<text text-anchor=\"start\" x=\"11\" y=\"-94.8\" font-family=\"Helvetica,sans-Serif\" font-size=\"14.00\" fill=\"#000000\">value = [6, 25, 5]</text>\n",
       "<text text-anchor=\"start\" x=\"14\" y=\"-79.8\" font-family=\"Helvetica,sans-Serif\" font-size=\"14.00\" fill=\"#000000\">class = Medium</text>\n",
       "</g>\n",
       "<!-- 2&#45;&gt;3 -->\n",
       "<g id=\"edge3\" class=\"edge\">\n",
       "<title>2&#45;&gt;3</title>\n",
       "<path fill=\"none\" stroke=\"#000000\" d=\"M174.8427,-190.8796C160.833,-181.1868 145.8146,-170.7961 131.475,-160.8752\"/>\n",
       "<polygon fill=\"#000000\" stroke=\"#000000\" points=\"133.3383,-157.9083 123.1233,-155.0969 129.3556,-163.6649 133.3383,-157.9083\"/>\n",
       "</g>\n",
       "<!-- 16 -->\n",
       "<g id=\"node7\" class=\"node\">\n",
       "<title>16</title>\n",
       "<path fill=\"#47e78a\" stroke=\"#000000\" d=\"M315.5,-155C315.5,-155 154.5,-155 154.5,-155 148.5,-155 142.5,-149 142.5,-143 142.5,-143 142.5,-84 142.5,-84 142.5,-78 148.5,-72 154.5,-72 154.5,-72 315.5,-72 315.5,-72 321.5,-72 327.5,-78 327.5,-84 327.5,-84 327.5,-143 327.5,-143 327.5,-149 321.5,-155 315.5,-155\"/>\n",
       "<text text-anchor=\"start\" x=\"150.5\" y=\"-139.8\" font-family=\"Helvetica,sans-Serif\" font-size=\"14.00\" fill=\"#000000\">total sulfur dioxide ≤ &#45;1.003</text>\n",
       "<text text-anchor=\"start\" x=\"198.5\" y=\"-124.8\" font-family=\"Helvetica,sans-Serif\" font-size=\"14.00\" fill=\"#000000\">gini = 0.131</text>\n",
       "<text text-anchor=\"start\" x=\"189\" y=\"-109.8\" font-family=\"Helvetica,sans-Serif\" font-size=\"14.00\" fill=\"#000000\">samples = 652</text>\n",
       "<text text-anchor=\"start\" x=\"171\" y=\"-94.8\" font-family=\"Helvetica,sans-Serif\" font-size=\"14.00\" fill=\"#000000\">value = [21, 607, 24]</text>\n",
       "<text text-anchor=\"start\" x=\"186\" y=\"-79.8\" font-family=\"Helvetica,sans-Serif\" font-size=\"14.00\" fill=\"#000000\">class = Medium</text>\n",
       "</g>\n",
       "<!-- 2&#45;&gt;16 -->\n",
       "<g id=\"edge6\" class=\"edge\">\n",
       "<title>2&#45;&gt;16</title>\n",
       "<path fill=\"none\" stroke=\"#000000\" d=\"M235,-190.8796C235,-182.6838 235,-173.9891 235,-165.5013\"/>\n",
       "<polygon fill=\"#000000\" stroke=\"#000000\" points=\"238.5001,-165.298 235,-155.2981 231.5001,-165.2981 238.5001,-165.298\"/>\n",
       "</g>\n",
       "<!-- 4 -->\n",
       "<g id=\"node5\" class=\"node\">\n",
       "<title>4</title>\n",
       "<path fill=\"#c0c0c0\" stroke=\"#000000\" d=\"M42,-36C42,-36 12,-36 12,-36 6,-36 0,-30 0,-24 0,-24 0,-12 0,-12 0,-6 6,0 12,0 12,0 42,0 42,0 48,0 54,-6 54,-12 54,-12 54,-24 54,-24 54,-30 48,-36 42,-36\"/>\n",
       "<text text-anchor=\"middle\" x=\"27\" y=\"-14.3\" font-family=\"Helvetica,sans-Serif\" font-size=\"14.00\" fill=\"#000000\">(...)</text>\n",
       "</g>\n",
       "<!-- 3&#45;&gt;4 -->\n",
       "<g id=\"edge4\" class=\"edge\">\n",
       "<title>3&#45;&gt;4</title>\n",
       "<path fill=\"none\" stroke=\"#000000\" d=\"M47.3146,-71.8901C43.9739,-63.0279 40.525,-53.8788 37.4386,-45.6913\"/>\n",
       "<polygon fill=\"#000000\" stroke=\"#000000\" points=\"40.6877,-44.3878 33.8853,-36.2651 34.1376,-46.8569 40.6877,-44.3878\"/>\n",
       "</g>\n",
       "<!-- 15 -->\n",
       "<g id=\"node6\" class=\"node\">\n",
       "<title>15</title>\n",
       "<path fill=\"#c0c0c0\" stroke=\"#000000\" d=\"M114,-36C114,-36 84,-36 84,-36 78,-36 72,-30 72,-24 72,-24 72,-12 72,-12 72,-6 78,0 84,0 84,0 114,0 114,0 120,0 126,-6 126,-12 126,-12 126,-24 126,-24 126,-30 120,-36 114,-36\"/>\n",
       "<text text-anchor=\"middle\" x=\"99\" y=\"-14.3\" font-family=\"Helvetica,sans-Serif\" font-size=\"14.00\" fill=\"#000000\">(...)</text>\n",
       "</g>\n",
       "<!-- 3&#45;&gt;15 -->\n",
       "<g id=\"edge5\" class=\"edge\">\n",
       "<title>3&#45;&gt;15</title>\n",
       "<path fill=\"none\" stroke=\"#000000\" d=\"M78.6854,-71.8901C82.0261,-63.0279 85.475,-53.8788 88.5614,-45.6913\"/>\n",
       "<polygon fill=\"#000000\" stroke=\"#000000\" points=\"91.8624,-46.8569 92.1147,-36.2651 85.3123,-44.3878 91.8624,-46.8569\"/>\n",
       "</g>\n",
       "<!-- 17 -->\n",
       "<g id=\"node8\" class=\"node\">\n",
       "<title>17</title>\n",
       "<path fill=\"#c0c0c0\" stroke=\"#000000\" d=\"M216,-36C216,-36 186,-36 186,-36 180,-36 174,-30 174,-24 174,-24 174,-12 174,-12 174,-6 180,0 186,0 186,0 216,0 216,0 222,0 228,-6 228,-12 228,-12 228,-24 228,-24 228,-30 222,-36 216,-36\"/>\n",
       "<text text-anchor=\"middle\" x=\"201\" y=\"-14.3\" font-family=\"Helvetica,sans-Serif\" font-size=\"14.00\" fill=\"#000000\">(...)</text>\n",
       "</g>\n",
       "<!-- 16&#45;&gt;17 -->\n",
       "<g id=\"edge7\" class=\"edge\">\n",
       "<title>16&#45;&gt;17</title>\n",
       "<path fill=\"none\" stroke=\"#000000\" d=\"M220.186,-71.8901C217.0309,-63.0279 213.7736,-53.8788 210.8587,-45.6913\"/>\n",
       "<polygon fill=\"#000000\" stroke=\"#000000\" points=\"214.1541,-44.512 207.5028,-36.2651 207.5595,-46.8598 214.1541,-44.512\"/>\n",
       "</g>\n",
       "<!-- 30 -->\n",
       "<g id=\"node9\" class=\"node\">\n",
       "<title>30</title>\n",
       "<path fill=\"#c0c0c0\" stroke=\"#000000\" d=\"M288,-36C288,-36 258,-36 258,-36 252,-36 246,-30 246,-24 246,-24 246,-12 246,-12 246,-6 252,0 258,0 258,0 288,0 288,0 294,0 300,-6 300,-12 300,-12 300,-24 300,-24 300,-30 294,-36 288,-36\"/>\n",
       "<text text-anchor=\"middle\" x=\"273\" y=\"-14.3\" font-family=\"Helvetica,sans-Serif\" font-size=\"14.00\" fill=\"#000000\">(...)</text>\n",
       "</g>\n",
       "<!-- 16&#45;&gt;30 -->\n",
       "<g id=\"edge8\" class=\"edge\">\n",
       "<title>16&#45;&gt;30</title>\n",
       "<path fill=\"none\" stroke=\"#000000\" d=\"M251.5568,-71.8901C255.0831,-63.0279 258.7236,-53.8788 261.9815,-45.6913\"/>\n",
       "<polygon fill=\"#000000\" stroke=\"#000000\" points=\"265.287,-46.8506 265.7322,-36.2651 258.783,-44.2626 265.287,-46.8506\"/>\n",
       "</g>\n",
       "<!-- 141 -->\n",
       "<g id=\"node12\" class=\"node\">\n",
       "<title>141</title>\n",
       "<path fill=\"#f6f1fd\" stroke=\"#000000\" d=\"M625,-274C625,-274 517,-274 517,-274 511,-274 505,-268 505,-262 505,-262 505,-203 505,-203 505,-197 511,-191 517,-191 517,-191 625,-191 625,-191 631,-191 637,-197 637,-203 637,-203 637,-262 637,-262 637,-268 631,-274 625,-274\"/>\n",
       "<text text-anchor=\"start\" x=\"513\" y=\"-258.8\" font-family=\"Helvetica,sans-Serif\" font-size=\"14.00\" fill=\"#000000\">sulphates ≤ &#45;0.137</text>\n",
       "<text text-anchor=\"start\" x=\"534.5\" y=\"-243.8\" font-family=\"Helvetica,sans-Serif\" font-size=\"14.00\" fill=\"#000000\">gini = 0.505</text>\n",
       "<text text-anchor=\"start\" x=\"525\" y=\"-228.8\" font-family=\"Helvetica,sans-Serif\" font-size=\"14.00\" fill=\"#000000\">samples = 192</text>\n",
       "<text text-anchor=\"start\" x=\"515\" y=\"-213.8\" font-family=\"Helvetica,sans-Serif\" font-size=\"14.00\" fill=\"#000000\">value = [1, 92, 99]</text>\n",
       "<text text-anchor=\"start\" x=\"532.5\" y=\"-198.8\" font-family=\"Helvetica,sans-Serif\" font-size=\"14.00\" fill=\"#000000\">class = High</text>\n",
       "</g>\n",
       "<!-- 140&#45;&gt;141 -->\n",
       "<g id=\"edge11\" class=\"edge\">\n",
       "<title>140&#45;&gt;141</title>\n",
       "<path fill=\"none\" stroke=\"#000000\" d=\"M571,-309.8796C571,-301.6838 571,-292.9891 571,-284.5013\"/>\n",
       "<polygon fill=\"#000000\" stroke=\"#000000\" points=\"574.5001,-284.298 571,-274.2981 567.5001,-284.2981 574.5001,-284.298\"/>\n",
       "</g>\n",
       "<!-- 222 -->\n",
       "<g id=\"node19\" class=\"node\">\n",
       "<title>222</title>\n",
       "<path fill=\"#6eeca3\" stroke=\"#000000\" d=\"M825,-274C825,-274 695,-274 695,-274 689,-274 683,-268 683,-262 683,-262 683,-203 683,-203 683,-197 689,-191 695,-191 695,-191 825,-191 825,-191 831,-191 837,-197 837,-203 837,-203 837,-262 837,-262 837,-268 831,-274 825,-274\"/>\n",
       "<text text-anchor=\"start\" x=\"691\" y=\"-258.8\" font-family=\"Helvetica,sans-Serif\" font-size=\"14.00\" fill=\"#000000\">volatile acidity ≤ 2.638</text>\n",
       "<text text-anchor=\"start\" x=\"723.5\" y=\"-243.8\" font-family=\"Helvetica,sans-Serif\" font-size=\"14.00\" fill=\"#000000\">gini = 0.374</text>\n",
       "<text text-anchor=\"start\" x=\"714\" y=\"-228.8\" font-family=\"Helvetica,sans-Serif\" font-size=\"14.00\" fill=\"#000000\">samples = 237</text>\n",
       "<text text-anchor=\"start\" x=\"696\" y=\"-213.8\" font-family=\"Helvetica,sans-Serif\" font-size=\"14.00\" fill=\"#000000\">value = [17, 183, 37]</text>\n",
       "<text text-anchor=\"start\" x=\"711\" y=\"-198.8\" font-family=\"Helvetica,sans-Serif\" font-size=\"14.00\" fill=\"#000000\">class = Medium</text>\n",
       "</g>\n",
       "<!-- 140&#45;&gt;222 -->\n",
       "<g id=\"edge18\" class=\"edge\">\n",
       "<title>140&#45;&gt;222</title>\n",
       "<path fill=\"none\" stroke=\"#000000\" d=\"M637.103,-309.8796C652.6413,-300.0962 669.3088,-289.6019 685.1987,-279.5971\"/>\n",
       "<polygon fill=\"#000000\" stroke=\"#000000\" points=\"687.3368,-282.3869 693.9343,-274.0969 683.6071,-276.4633 687.3368,-282.3869\"/>\n",
       "</g>\n",
       "<!-- 142 -->\n",
       "<g id=\"node13\" class=\"node\">\n",
       "<title>142</title>\n",
       "<path fill=\"#a1f3c3\" stroke=\"#000000\" d=\"M462,-155C462,-155 358,-155 358,-155 352,-155 346,-149 346,-143 346,-143 346,-84 346,-84 346,-78 352,-72 358,-72 358,-72 462,-72 462,-72 468,-72 474,-78 474,-84 474,-84 474,-143 474,-143 474,-149 468,-155 462,-155\"/>\n",
       "<text text-anchor=\"start\" x=\"360\" y=\"-139.8\" font-family=\"Helvetica,sans-Serif\" font-size=\"14.00\" fill=\"#000000\">density ≤ &#45;1.162</text>\n",
       "<text text-anchor=\"start\" x=\"373.5\" y=\"-124.8\" font-family=\"Helvetica,sans-Serif\" font-size=\"14.00\" fill=\"#000000\">gini = 0.466</text>\n",
       "<text text-anchor=\"start\" x=\"368\" y=\"-109.8\" font-family=\"Helvetica,sans-Serif\" font-size=\"14.00\" fill=\"#000000\">samples = 60</text>\n",
       "<text text-anchor=\"start\" x=\"354\" y=\"-94.8\" font-family=\"Helvetica,sans-Serif\" font-size=\"14.00\" fill=\"#000000\">value = [1, 39, 20]</text>\n",
       "<text text-anchor=\"start\" x=\"361\" y=\"-79.8\" font-family=\"Helvetica,sans-Serif\" font-size=\"14.00\" fill=\"#000000\">class = Medium</text>\n",
       "</g>\n",
       "<!-- 141&#45;&gt;142 -->\n",
       "<g id=\"edge12\" class=\"edge\">\n",
       "<title>141&#45;&gt;142</title>\n",
       "<path fill=\"none\" stroke=\"#000000\" d=\"M514.69,-190.8796C501.6988,-181.2774 487.781,-170.9903 474.4723,-161.1534\"/>\n",
       "<polygon fill=\"#000000\" stroke=\"#000000\" points=\"476.4004,-158.2263 466.2782,-155.0969 472.2396,-163.8555 476.4004,-158.2263\"/>\n",
       "</g>\n",
       "<!-- 165 -->\n",
       "<g id=\"node16\" class=\"node\">\n",
       "<title>165</title>\n",
       "<path fill=\"#d6bef6\" stroke=\"#000000\" d=\"M658,-155C658,-155 504,-155 504,-155 498,-155 492,-149 492,-143 492,-143 492,-84 492,-84 492,-78 498,-72 504,-72 504,-72 658,-72 658,-72 664,-72 670,-78 670,-84 670,-84 670,-143 670,-143 670,-149 664,-155 658,-155\"/>\n",
       "<text text-anchor=\"start\" x=\"500\" y=\"-139.8\" font-family=\"Helvetica,sans-Serif\" font-size=\"14.00\" fill=\"#000000\">free sulfur dioxide ≤ 0.825</text>\n",
       "<text text-anchor=\"start\" x=\"544.5\" y=\"-124.8\" font-family=\"Helvetica,sans-Serif\" font-size=\"14.00\" fill=\"#000000\">gini = 0.481</text>\n",
       "<text text-anchor=\"start\" x=\"535\" y=\"-109.8\" font-family=\"Helvetica,sans-Serif\" font-size=\"14.00\" fill=\"#000000\">samples = 132</text>\n",
       "<text text-anchor=\"start\" x=\"525\" y=\"-94.8\" font-family=\"Helvetica,sans-Serif\" font-size=\"14.00\" fill=\"#000000\">value = [0, 53, 79]</text>\n",
       "<text text-anchor=\"start\" x=\"542.5\" y=\"-79.8\" font-family=\"Helvetica,sans-Serif\" font-size=\"14.00\" fill=\"#000000\">class = High</text>\n",
       "</g>\n",
       "<!-- 141&#45;&gt;165 -->\n",
       "<g id=\"edge15\" class=\"edge\">\n",
       "<title>141&#45;&gt;165</title>\n",
       "<path fill=\"none\" stroke=\"#000000\" d=\"M574.4975,-190.8796C575.1862,-182.6838 575.9169,-173.9891 576.6301,-165.5013\"/>\n",
       "<polygon fill=\"#000000\" stroke=\"#000000\" points=\"580.1378,-165.5561 577.4876,-155.2981 573.1624,-164.9698 580.1378,-165.5561\"/>\n",
       "</g>\n",
       "<!-- 143 -->\n",
       "<g id=\"node14\" class=\"node\">\n",
       "<title>143</title>\n",
       "<path fill=\"#c0c0c0\" stroke=\"#000000\" d=\"M385,-36C385,-36 355,-36 355,-36 349,-36 343,-30 343,-24 343,-24 343,-12 343,-12 343,-6 349,0 355,0 355,0 385,0 385,0 391,0 397,-6 397,-12 397,-12 397,-24 397,-24 397,-30 391,-36 385,-36\"/>\n",
       "<text text-anchor=\"middle\" x=\"370\" y=\"-14.3\" font-family=\"Helvetica,sans-Serif\" font-size=\"14.00\" fill=\"#000000\">(...)</text>\n",
       "</g>\n",
       "<!-- 142&#45;&gt;143 -->\n",
       "<g id=\"edge13\" class=\"edge\">\n",
       "<title>142&#45;&gt;143</title>\n",
       "<path fill=\"none\" stroke=\"#000000\" d=\"M392.5718,-71.8901C388.8599,-63.0279 385.0278,-53.8788 381.5984,-45.6913\"/>\n",
       "<polygon fill=\"#000000\" stroke=\"#000000\" points=\"384.7419,-44.1365 377.6503,-36.2651 378.2854,-46.8409 384.7419,-44.1365\"/>\n",
       "</g>\n",
       "<!-- 152 -->\n",
       "<g id=\"node15\" class=\"node\">\n",
       "<title>152</title>\n",
       "<path fill=\"#c0c0c0\" stroke=\"#000000\" d=\"M457,-36C457,-36 427,-36 427,-36 421,-36 415,-30 415,-24 415,-24 415,-12 415,-12 415,-6 421,0 427,0 427,0 457,0 457,0 463,0 469,-6 469,-12 469,-12 469,-24 469,-24 469,-30 463,-36 457,-36\"/>\n",
       "<text text-anchor=\"middle\" x=\"442\" y=\"-14.3\" font-family=\"Helvetica,sans-Serif\" font-size=\"14.00\" fill=\"#000000\">(...)</text>\n",
       "</g>\n",
       "<!-- 142&#45;&gt;152 -->\n",
       "<g id=\"edge14\" class=\"edge\">\n",
       "<title>142&#45;&gt;152</title>\n",
       "<path fill=\"none\" stroke=\"#000000\" d=\"M423.9426,-71.8901C426.8795,-63.1253 429.9104,-54.0798 432.6307,-45.9615\"/>\n",
       "<polygon fill=\"#000000\" stroke=\"#000000\" points=\"436.0212,-46.859 435.8798,-36.2651 429.3839,-44.6349 436.0212,-46.859\"/>\n",
       "</g>\n",
       "<!-- 166 -->\n",
       "<g id=\"node17\" class=\"node\">\n",
       "<title>166</title>\n",
       "<path fill=\"#c0c0c0\" stroke=\"#000000\" d=\"M541,-36C541,-36 511,-36 511,-36 505,-36 499,-30 499,-24 499,-24 499,-12 499,-12 499,-6 505,0 511,0 511,0 541,0 541,0 547,0 553,-6 553,-12 553,-12 553,-24 553,-24 553,-30 547,-36 541,-36\"/>\n",
       "<text text-anchor=\"middle\" x=\"526\" y=\"-14.3\" font-family=\"Helvetica,sans-Serif\" font-size=\"14.00\" fill=\"#000000\">(...)</text>\n",
       "</g>\n",
       "<!-- 165&#45;&gt;166 -->\n",
       "<g id=\"edge16\" class=\"edge\">\n",
       "<title>165&#45;&gt;166</title>\n",
       "<path fill=\"none\" stroke=\"#000000\" d=\"M557.0362,-71.8901C551.8201,-62.8331 546.4315,-53.4765 541.6378,-45.1528\"/>\n",
       "<polygon fill=\"#000000\" stroke=\"#000000\" points=\"544.5429,-43.184 536.5192,-36.2651 538.4769,-46.6775 544.5429,-43.184\"/>\n",
       "</g>\n",
       "<!-- 213 -->\n",
       "<g id=\"node18\" class=\"node\">\n",
       "<title>213</title>\n",
       "<path fill=\"#c0c0c0\" stroke=\"#000000\" d=\"M613,-36C613,-36 583,-36 583,-36 577,-36 571,-30 571,-24 571,-24 571,-12 571,-12 571,-6 577,0 583,0 583,0 613,0 613,0 619,0 625,-6 625,-12 625,-12 625,-24 625,-24 625,-30 619,-36 613,-36\"/>\n",
       "<text text-anchor=\"middle\" x=\"598\" y=\"-14.3\" font-family=\"Helvetica,sans-Serif\" font-size=\"14.00\" fill=\"#000000\">(...)</text>\n",
       "</g>\n",
       "<!-- 165&#45;&gt;213 -->\n",
       "<g id=\"edge17\" class=\"edge\">\n",
       "<title>165&#45;&gt;213</title>\n",
       "<path fill=\"none\" stroke=\"#000000\" d=\"M588.407,-71.8901C589.9499,-63.2227 591.5416,-54.2808 592.9743,-46.2325\"/>\n",
       "<polygon fill=\"#000000\" stroke=\"#000000\" points=\"596.4418,-46.7238 594.7486,-36.2651 589.5502,-45.4969 596.4418,-46.7238\"/>\n",
       "</g>\n",
       "<!-- 223 -->\n",
       "<g id=\"node20\" class=\"node\">\n",
       "<title>223</title>\n",
       "<path fill=\"#6aeba0\" stroke=\"#000000\" d=\"M820,-155C820,-155 700,-155 700,-155 694,-155 688,-149 688,-143 688,-143 688,-84 688,-84 688,-78 694,-72 700,-72 700,-72 820,-72 820,-72 826,-72 832,-78 832,-84 832,-84 832,-143 832,-143 832,-149 826,-155 820,-155\"/>\n",
       "<text text-anchor=\"start\" x=\"704.5\" y=\"-139.8\" font-family=\"Helvetica,sans-Serif\" font-size=\"14.00\" fill=\"#000000\">sulphates ≤ 0.158</text>\n",
       "<text text-anchor=\"start\" x=\"723.5\" y=\"-124.8\" font-family=\"Helvetica,sans-Serif\" font-size=\"14.00\" fill=\"#000000\">gini = 0.342</text>\n",
       "<text text-anchor=\"start\" x=\"714\" y=\"-109.8\" font-family=\"Helvetica,sans-Serif\" font-size=\"14.00\" fill=\"#000000\">samples = 228</text>\n",
       "<text text-anchor=\"start\" x=\"696\" y=\"-94.8\" font-family=\"Helvetica,sans-Serif\" font-size=\"14.00\" fill=\"#000000\">value = [10, 181, 37]</text>\n",
       "<text text-anchor=\"start\" x=\"711\" y=\"-79.8\" font-family=\"Helvetica,sans-Serif\" font-size=\"14.00\" fill=\"#000000\">class = Medium</text>\n",
       "</g>\n",
       "<!-- 222&#45;&gt;223 -->\n",
       "<g id=\"edge19\" class=\"edge\">\n",
       "<title>222&#45;&gt;223</title>\n",
       "<path fill=\"none\" stroke=\"#000000\" d=\"M760,-190.8796C760,-182.6838 760,-173.9891 760,-165.5013\"/>\n",
       "<polygon fill=\"#000000\" stroke=\"#000000\" points=\"763.5001,-165.298 760,-155.2981 756.5001,-165.2981 763.5001,-165.298\"/>\n",
       "</g>\n",
       "<!-- 298 -->\n",
       "<g id=\"node23\" class=\"node\">\n",
       "<title>298</title>\n",
       "<path fill=\"#eca572\" stroke=\"#000000\" d=\"M998,-155C998,-155 862,-155 862,-155 856,-155 850,-149 850,-143 850,-143 850,-84 850,-84 850,-78 856,-72 862,-72 862,-72 998,-72 998,-72 1004,-72 1010,-78 1010,-84 1010,-84 1010,-143 1010,-143 1010,-149 1004,-155 998,-155\"/>\n",
       "<text text-anchor=\"start\" x=\"858\" y=\"-139.8\" font-family=\"Helvetica,sans-Serif\" font-size=\"14.00\" fill=\"#000000\">residual sugar ≤ &#45;0.453</text>\n",
       "<text text-anchor=\"start\" x=\"893.5\" y=\"-124.8\" font-family=\"Helvetica,sans-Serif\" font-size=\"14.00\" fill=\"#000000\">gini = 0.346</text>\n",
       "<text text-anchor=\"start\" x=\"892\" y=\"-109.8\" font-family=\"Helvetica,sans-Serif\" font-size=\"14.00\" fill=\"#000000\">samples = 9</text>\n",
       "<text text-anchor=\"start\" x=\"881.5\" y=\"-94.8\" font-family=\"Helvetica,sans-Serif\" font-size=\"14.00\" fill=\"#000000\">value = [7, 2, 0]</text>\n",
       "<text text-anchor=\"start\" x=\"893\" y=\"-79.8\" font-family=\"Helvetica,sans-Serif\" font-size=\"14.00\" fill=\"#000000\">class = Low</text>\n",
       "</g>\n",
       "<!-- 222&#45;&gt;298 -->\n",
       "<g id=\"edge22\" class=\"edge\">\n",
       "<title>222&#45;&gt;298</title>\n",
       "<path fill=\"none\" stroke=\"#000000\" d=\"M819.4578,-190.8796C833.3046,-181.1868 848.1484,-170.7961 862.3212,-160.8752\"/>\n",
       "<polygon fill=\"#000000\" stroke=\"#000000\" points=\"864.3906,-163.6989 870.5758,-155.0969 860.3764,-157.9643 864.3906,-163.6989\"/>\n",
       "</g>\n",
       "<!-- 224 -->\n",
       "<g id=\"node21\" class=\"node\">\n",
       "<title>224</title>\n",
       "<path fill=\"#c0c0c0\" stroke=\"#000000\" d=\"M734,-36C734,-36 704,-36 704,-36 698,-36 692,-30 692,-24 692,-24 692,-12 692,-12 692,-6 698,0 704,0 704,0 734,0 734,0 740,0 746,-6 746,-12 746,-12 746,-24 746,-24 746,-30 740,-36 734,-36\"/>\n",
       "<text text-anchor=\"middle\" x=\"719\" y=\"-14.3\" font-family=\"Helvetica,sans-Serif\" font-size=\"14.00\" fill=\"#000000\">(...)</text>\n",
       "</g>\n",
       "<!-- 223&#45;&gt;224 -->\n",
       "<g id=\"edge20\" class=\"edge\">\n",
       "<title>223&#45;&gt;224</title>\n",
       "<path fill=\"none\" stroke=\"#000000\" d=\"M742.1361,-71.8901C738.3314,-63.0279 734.4035,-53.8788 730.8884,-45.6913\"/>\n",
       "<polygon fill=\"#000000\" stroke=\"#000000\" points=\"734.0028,-44.0733 726.8416,-36.2651 727.5705,-46.8348 734.0028,-44.0733\"/>\n",
       "</g>\n",
       "<!-- 275 -->\n",
       "<g id=\"node22\" class=\"node\">\n",
       "<title>275</title>\n",
       "<path fill=\"#c0c0c0\" stroke=\"#000000\" d=\"M806,-36C806,-36 776,-36 776,-36 770,-36 764,-30 764,-24 764,-24 764,-12 764,-12 764,-6 770,0 776,0 776,0 806,0 806,0 812,0 818,-6 818,-12 818,-12 818,-24 818,-24 818,-30 812,-36 806,-36\"/>\n",
       "<text text-anchor=\"middle\" x=\"791\" y=\"-14.3\" font-family=\"Helvetica,sans-Serif\" font-size=\"14.00\" fill=\"#000000\">(...)</text>\n",
       "</g>\n",
       "<!-- 223&#45;&gt;275 -->\n",
       "<g id=\"edge21\" class=\"edge\">\n",
       "<title>223&#45;&gt;275</title>\n",
       "<path fill=\"none\" stroke=\"#000000\" d=\"M773.5069,-71.8901C776.352,-63.1253 779.2882,-54.0798 781.9235,-45.9615\"/>\n",
       "<polygon fill=\"#000000\" stroke=\"#000000\" points=\"785.3125,-46.8572 785.071,-36.2651 778.6545,-44.6959 785.3125,-46.8572\"/>\n",
       "</g>\n",
       "<!-- 299 -->\n",
       "<g id=\"node24\" class=\"node\">\n",
       "<title>299</title>\n",
       "<path fill=\"#c0c0c0\" stroke=\"#000000\" d=\"M909,-36C909,-36 879,-36 879,-36 873,-36 867,-30 867,-24 867,-24 867,-12 867,-12 867,-6 873,0 879,0 879,0 909,0 909,0 915,0 921,-6 921,-12 921,-12 921,-24 921,-24 921,-30 915,-36 909,-36\"/>\n",
       "<text text-anchor=\"middle\" x=\"894\" y=\"-14.3\" font-family=\"Helvetica,sans-Serif\" font-size=\"14.00\" fill=\"#000000\">(...)</text>\n",
       "</g>\n",
       "<!-- 298&#45;&gt;299 -->\n",
       "<g id=\"edge23\" class=\"edge\">\n",
       "<title>298&#45;&gt;299</title>\n",
       "<path fill=\"none\" stroke=\"#000000\" d=\"M914.3146,-71.8901C910.9739,-63.0279 907.525,-53.8788 904.4386,-45.6913\"/>\n",
       "<polygon fill=\"#000000\" stroke=\"#000000\" points=\"907.6877,-44.3878 900.8853,-36.2651 901.1376,-46.8569 907.6877,-44.3878\"/>\n",
       "</g>\n",
       "<!-- 300 -->\n",
       "<g id=\"node25\" class=\"node\">\n",
       "<title>300</title>\n",
       "<path fill=\"#c0c0c0\" stroke=\"#000000\" d=\"M981,-36C981,-36 951,-36 951,-36 945,-36 939,-30 939,-24 939,-24 939,-12 939,-12 939,-6 945,0 951,0 951,0 981,0 981,0 987,0 993,-6 993,-12 993,-12 993,-24 993,-24 993,-30 987,-36 981,-36\"/>\n",
       "<text text-anchor=\"middle\" x=\"966\" y=\"-14.3\" font-family=\"Helvetica,sans-Serif\" font-size=\"14.00\" fill=\"#000000\">(...)</text>\n",
       "</g>\n",
       "<!-- 298&#45;&gt;300 -->\n",
       "<g id=\"edge24\" class=\"edge\">\n",
       "<title>298&#45;&gt;300</title>\n",
       "<path fill=\"none\" stroke=\"#000000\" d=\"M945.6854,-71.8901C949.0261,-63.0279 952.475,-53.8788 955.5614,-45.6913\"/>\n",
       "<polygon fill=\"#000000\" stroke=\"#000000\" points=\"958.8624,-46.8569 959.1147,-36.2651 952.3123,-44.3878 958.8624,-46.8569\"/>\n",
       "</g>\n",
       "</g>\n",
       "</svg>\n"
      ],
      "text/plain": [
       "<graphviz.files.Source at 0x1a1eb0a990>"
      ]
     },
     "execution_count": 40,
     "metadata": {},
     "output_type": "execute_result"
    }
   ],
   "source": [
    "import graphviz\n",
    "data = tree.export_graphviz(DT,out_file=None,feature_names=list(x_train),class_names=['Low', 'Medium','High'],   \n",
    "                         filled=True, rounded=True, impurity = True,max_depth=3,\n",
    "                         special_characters=True)\n",
    "graph = graphviz.Source(data)\n",
    "graph"
   ]
  },
  {
   "cell_type": "code",
   "execution_count": 38,
   "metadata": {},
   "outputs": [
    {
     "data": {
      "text/plain": [
       "'DT.pdf'"
      ]
     },
     "execution_count": 38,
     "metadata": {},
     "output_type": "execute_result"
    }
   ],
   "source": [
    "graph.render(\"DT\")"
   ]
  },
  {
   "cell_type": "markdown",
   "metadata": {},
   "source": [
    "### K-Nearest Neighbors"
   ]
  },
  {
   "cell_type": "code",
   "execution_count": 22,
   "metadata": {},
   "outputs": [],
   "source": [
    "from sklearn.neighbors import KNeighborsClassifier\n",
    "# Find the optimum k\n",
    "error_rate = []\n",
    "\n",
    "for i in range(1,30):\n",
    "    knn = KNeighborsClassifier(n_neighbors=i)\n",
    "    knn.fit(x_train,y_train)\n",
    "    pred_i = knn.predict(x_test)\n",
    "    error_rate.append(np.mean(pred_i != y_test))"
   ]
  },
  {
   "cell_type": "code",
   "execution_count": 23,
   "metadata": {},
   "outputs": [
    {
     "data": {
      "text/plain": [
       "Text(0, 0.5, 'Error Rate')"
      ]
     },
     "execution_count": 23,
     "metadata": {},
     "output_type": "execute_result"
    },
    {
     "data": {
      "image/png": "[encoded data removed]",
      "text/plain": [
       "<Figure size 720x432 with 1 Axes>"
      ]
     },
     "metadata": {
      "needs_background": "light"
     },
     "output_type": "display_data"
    }
   ],
   "source": [
    "plt.figure(figsize=(10,6))\n",
    "plt.plot(range(1,30),error_rate,color='blue',linestyle='dashed',marker='o',\n",
    "        markerfacecolor='red',markersize=10)\n",
    "plt.xticks(np.arange(0, 30, step=2))\n",
    "plt.title('Error Rate vs. K Value')\n",
    "plt.xlabel('K')\n",
    "plt.ylabel('Error Rate')"
   ]
  },
  {
   "cell_type": "markdown",
   "metadata": {},
   "source": [
    "Because the least error rate of the model is 4, we choose 4 variables as our neighbors."
   ]
  },
  {
   "cell_type": "code",
   "execution_count": 24,
   "metadata": {},
   "outputs": [],
   "source": [
    "knn = KNeighborsClassifier(n_neighbors=4)\n",
    "knn.fit(x_train,y_train)\n",
    "pred_knn = knn.predict(x_test)"
   ]
  },
  {
   "cell_type": "code",
   "execution_count": 25,
   "metadata": {},
   "outputs": [
    {
     "name": "stdout",
     "output_type": "stream",
     "text": [
      "[[  1  17   0]\n",
      " [  1 393  18]\n",
      " [  0  28  22]]\n",
      "              precision    recall  f1-score   support\n",
      "\n",
      "           0       0.50      0.06      0.10        18\n",
      "           1       0.90      0.95      0.92       412\n",
      "           2       0.55      0.44      0.49        50\n",
      "\n",
      "    accuracy                           0.87       480\n",
      "   macro avg       0.65      0.48      0.50       480\n",
      "weighted avg       0.85      0.87      0.85       480\n",
      "\n"
     ]
    }
   ],
   "source": [
    "print(confusion_matrix(y_test,pred_knn))\n",
    "print(classification_report(y_test, pred_knn))"
   ]
  },
  {
   "cell_type": "markdown",
   "metadata": {},
   "source": [
    "### Support Vector Machine"
   ]
  },
  {
   "cell_type": "code",
   "execution_count": 41,
   "metadata": {},
   "outputs": [],
   "source": [
    "from sklearn.svm import SVC\n",
    "# SVM with default\n",
    "SVM = SVC()\n",
    "SVM.fit(x_train, y_train)\n",
    "pred_SVM = SVM.predict(x_test)"
   ]
  },
  {
   "cell_type": "code",
   "execution_count": 42,
   "metadata": {},
   "outputs": [
    {
     "name": "stdout",
     "output_type": "stream",
     "text": [
      "[[  0  18   0]\n",
      " [  0 400  12]\n",
      " [  0  33  17]]\n",
      "              precision    recall  f1-score   support\n",
      "\n",
      "           0       0.00      0.00      0.00        18\n",
      "           1       0.89      0.97      0.93       412\n",
      "           2       0.59      0.34      0.43        50\n",
      "\n",
      "    accuracy                           0.87       480\n",
      "   macro avg       0.49      0.44      0.45       480\n",
      "weighted avg       0.82      0.87      0.84       480\n",
      "\n"
     ]
    },
    {
     "name": "stderr",
     "output_type": "stream",
     "text": [
      "/opt/anaconda3/lib/python3.7/site-packages/sklearn/metrics/_classification.py:1221: UndefinedMetricWarning: Precision and F-score are ill-defined and being set to 0.0 in labels with no predicted samples. Use `zero_division` parameter to control this behavior.\n",
      "  _warn_prf(average, modifier, msg_start, len(result))\n"
     ]
    }
   ],
   "source": [
    "print(confusion_matrix(y_test,pred_SVM))\n",
    "print(classification_report(y_test, pred_SVM))"
   ]
  },
  {
   "cell_type": "code",
   "execution_count": 43,
   "metadata": {},
   "outputs": [],
   "source": [
    "# SVM with sigmoid kernel\n",
    "SVM_sigmoid = SVC(kernel='sigmoid')\n",
    "SVM_sigmoid.fit(x_train, y_train)\n",
    "pred_SVM_sigmoid = SVM_sigmoid.predict(x_test)"
   ]
  },
  {
   "cell_type": "code",
   "execution_count": 44,
   "metadata": {},
   "outputs": [
    {
     "name": "stdout",
     "output_type": "stream",
     "text": [
      "[[  3  13   2]\n",
      " [  1 374  37]\n",
      " [  2  34  14]]\n",
      "              precision    recall  f1-score   support\n",
      "\n",
      "           0       0.50      0.17      0.25        18\n",
      "           1       0.89      0.91      0.90       412\n",
      "           2       0.26      0.28      0.27        50\n",
      "\n",
      "    accuracy                           0.81       480\n",
      "   macro avg       0.55      0.45      0.47       480\n",
      "weighted avg       0.81      0.81      0.81       480\n",
      "\n"
     ]
    }
   ],
   "source": [
    "print(confusion_matrix(y_test,pred_SVM_sigmoid))\n",
    "print(classification_report(y_test, pred_SVM_sigmoid))"
   ]
  },
  {
   "cell_type": "markdown",
   "metadata": {},
   "source": [
    "The data is significantly imbalanced. We could try to resample the data to see if there are any improvements in the models."
   ]
  },
  {
   "cell_type": "markdown",
   "metadata": {},
   "source": [
    "### Oversampling"
   ]
  },
  {
   "cell_type": "code",
   "execution_count": 45,
   "metadata": {},
   "outputs": [
    {
     "name": "stderr",
     "output_type": "stream",
     "text": [
      "/opt/anaconda3/lib/python3.7/site-packages/sklearn/utils/deprecation.py:143: FutureWarning: The sklearn.neighbors.base module is  deprecated in version 0.22 and will be removed in version 0.24. The corresponding classes / functions should instead be imported from sklearn.neighbors. Anything that cannot be imported from sklearn.neighbors is now part of the private API.\n",
      "  warnings.warn(message, FutureWarning)\n",
      "/opt/anaconda3/lib/python3.7/site-packages/sklearn/utils/deprecation.py:143: FutureWarning: The sklearn.ensemble.bagging module is  deprecated in version 0.22 and will be removed in version 0.24. The corresponding classes / functions should instead be imported from sklearn.ensemble. Anything that cannot be imported from sklearn.ensemble is now part of the private API.\n",
      "  warnings.warn(message, FutureWarning)\n",
      "/opt/anaconda3/lib/python3.7/site-packages/sklearn/utils/deprecation.py:143: FutureWarning: The sklearn.ensemble.base module is  deprecated in version 0.22 and will be removed in version 0.24. The corresponding classes / functions should instead be imported from sklearn.ensemble. Anything that cannot be imported from sklearn.ensemble is now part of the private API.\n",
      "  warnings.warn(message, FutureWarning)\n",
      "/opt/anaconda3/lib/python3.7/site-packages/sklearn/utils/deprecation.py:143: FutureWarning: The sklearn.ensemble.forest module is  deprecated in version 0.22 and will be removed in version 0.24. The corresponding classes / functions should instead be imported from sklearn.ensemble. Anything that cannot be imported from sklearn.ensemble is now part of the private API.\n",
      "  warnings.warn(message, FutureWarning)\n",
      "Using TensorFlow backend.\n",
      "/opt/anaconda3/lib/python3.7/site-packages/sklearn/utils/deprecation.py:143: FutureWarning: The sklearn.utils.testing module is  deprecated in version 0.22 and will be removed in version 0.24. The corresponding classes / functions should instead be imported from sklearn.utils. Anything that cannot be imported from sklearn.utils is now part of the private API.\n",
      "  warnings.warn(message, FutureWarning)\n",
      "/opt/anaconda3/lib/python3.7/site-packages/sklearn/utils/deprecation.py:143: FutureWarning: The sklearn.metrics.classification module is  deprecated in version 0.22 and will be removed in version 0.24. The corresponding classes / functions should instead be imported from sklearn.metrics. Anything that cannot be imported from sklearn.metrics is now part of the private API.\n",
      "  warnings.warn(message, FutureWarning)\n",
      "/opt/anaconda3/lib/python3.7/site-packages/sklearn/utils/deprecation.py:86: FutureWarning: Function safe_indexing is deprecated; safe_indexing is deprecated in version 0.22 and will be removed in version 0.24.\n",
      "  warnings.warn(msg, category=FutureWarning)\n"
     ]
    }
   ],
   "source": [
    "from imblearn.over_sampling import RandomOverSampler\n",
    "method = RandomOverSampler(random_state=0)\n",
    "x_resampled_random, y_resampled_random = method.fit_resample(x_train, y_train)"
   ]
  },
  {
   "cell_type": "code",
   "execution_count": 46,
   "metadata": {},
   "outputs": [],
   "source": [
    "from collections import  Counter"
   ]
  },
  {
   "cell_type": "code",
   "execution_count": 47,
   "metadata": {},
   "outputs": [
    {
     "data": {
      "text/plain": [
       "Counter({'1': 907, '2': 907, '0': 907})"
      ]
     },
     "execution_count": 47,
     "metadata": {},
     "output_type": "execute_result"
    }
   ],
   "source": [
    "Counter(y_resampled_random)"
   ]
  },
  {
   "cell_type": "code",
   "execution_count": 48,
   "metadata": {},
   "outputs": [
    {
     "data": {
      "text/plain": [
       "Counter({'1': 907, '2': 167, '0': 45})"
      ]
     },
     "execution_count": 48,
     "metadata": {},
     "output_type": "execute_result"
    }
   ],
   "source": [
    "Counter(y_train)"
   ]
  },
  {
   "cell_type": "markdown",
   "metadata": {},
   "source": [
    "### Decision Tree after Resampling"
   ]
  },
  {
   "cell_type": "code",
   "execution_count": 53,
   "metadata": {},
   "outputs": [],
   "source": [
    "DT_resample = tree.DecisionTreeClassifier()\n",
    "DT_resample.fit(x_resampled_random,y_resampled_random)\n",
    "pred_DT_resample = DT_resample.predict(x_test)"
   ]
  },
  {
   "cell_type": "code",
   "execution_count": 54,
   "metadata": {},
   "outputs": [
    {
     "name": "stdout",
     "output_type": "stream",
     "text": [
      "[[  0  17   1]\n",
      " [ 12 363  37]\n",
      " [  1  22  27]]\n",
      "              precision    recall  f1-score   support\n",
      "\n",
      "           0       0.00      0.00      0.00        18\n",
      "           1       0.90      0.88      0.89       412\n",
      "           2       0.42      0.54      0.47        50\n",
      "\n",
      "    accuracy                           0.81       480\n",
      "   macro avg       0.44      0.47      0.45       480\n",
      "weighted avg       0.82      0.81      0.81       480\n",
      "\n"
     ]
    }
   ],
   "source": [
    "print(confusion_matrix(y_test,pred_DT_resample))\n",
    "print(classification_report(y_test, pred_DT_resample))"
   ]
  },
  {
   "cell_type": "markdown",
   "metadata": {},
   "source": [
    "### K-Nearest Neighbors after Resampling"
   ]
  },
  {
   "cell_type": "code",
   "execution_count": 55,
   "metadata": {},
   "outputs": [],
   "source": [
    "# Find the optimum k\n",
    "error_rate = []\n",
    "\n",
    "for i in range(1,30):\n",
    "    knn = KNeighborsClassifier(n_neighbors=i)\n",
    "    knn.fit(x_resampled_random,y_resampled_random)\n",
    "    pred_i = knn.predict(x_test)\n",
    "    error_rate.append(np.mean(pred_i != y_test))"
   ]
  },
  {
   "cell_type": "code",
   "execution_count": 56,
   "metadata": {},
   "outputs": [
    {
     "data": {
      "text/plain": [
       "Text(0, 0.5, 'Error Rate')"
      ]
     },
     "execution_count": 56,
     "metadata": {},
     "output_type": "execute_result"
    },
    {
     "data": {
      "image/png": "[encoded data removed]",
      "text/plain": [
       "<Figure size 720x432 with 1 Axes>"
      ]
     },
     "metadata": {
      "needs_background": "light"
     },
     "output_type": "display_data"
    }
   ],
   "source": [
    "plt.figure(figsize=(10,6))\n",
    "plt.plot(range(1,30),error_rate,color='blue',linestyle='dashed',marker='o',\n",
    "        markerfacecolor='red',markersize=10)\n",
    "plt.xticks(np.arange(0, 30, step=2))\n",
    "plt.title('Error Rate vs. K Value')\n",
    "plt.xlabel('K')\n",
    "plt.ylabel('Error Rate')"
   ]
  },
  {
   "cell_type": "code",
   "execution_count": 67,
   "metadata": {},
   "outputs": [],
   "source": [
    "knn_resample = KNeighborsClassifier(n_neighbors=1)\n",
    "knn_resample.fit(x_resampled_random,y_resampled_random)\n",
    "pred_knn_resample = knn_resample.predict(x_test)"
   ]
  },
  {
   "cell_type": "code",
   "execution_count": 68,
   "metadata": {},
   "outputs": [
    {
     "name": "stdout",
     "output_type": "stream",
     "text": [
      "[[  2  16   0]\n",
      " [  9 358  45]\n",
      " [  0  13  37]]\n",
      "              precision    recall  f1-score   support\n",
      "\n",
      "           0       0.18      0.11      0.14        18\n",
      "           1       0.93      0.87      0.90       412\n",
      "           2       0.45      0.74      0.56        50\n",
      "\n",
      "    accuracy                           0.83       480\n",
      "   macro avg       0.52      0.57      0.53       480\n",
      "weighted avg       0.85      0.83      0.83       480\n",
      "\n"
     ]
    }
   ],
   "source": [
    "print(confusion_matrix(y_test,pred_knn_resample))\n",
    "print(classification_report(y_test, pred_knn_resample))"
   ]
  },
  {
   "cell_type": "markdown",
   "metadata": {},
   "source": [
    "### Support Vector Machine after Resampling"
   ]
  },
  {
   "cell_type": "code",
   "execution_count": 60,
   "metadata": {},
   "outputs": [],
   "source": [
    "SVM_resample = SVC()\n",
    "SVM_resample.fit(x_resampled_random, y_resampled_random)\n",
    "pred_SVM_resample = SVM.predict(x_test)"
   ]
  },
  {
   "cell_type": "code",
   "execution_count": 61,
   "metadata": {},
   "outputs": [
    {
     "name": "stdout",
     "output_type": "stream",
     "text": [
      "[[  0  18   0]\n",
      " [  0 400  12]\n",
      " [  0  33  17]]\n",
      "              precision    recall  f1-score   support\n",
      "\n",
      "           0       0.00      0.00      0.00        18\n",
      "           1       0.89      0.97      0.93       412\n",
      "           2       0.59      0.34      0.43        50\n",
      "\n",
      "    accuracy                           0.87       480\n",
      "   macro avg       0.49      0.44      0.45       480\n",
      "weighted avg       0.82      0.87      0.84       480\n",
      "\n"
     ]
    },
    {
     "name": "stderr",
     "output_type": "stream",
     "text": [
      "/opt/anaconda3/lib/python3.7/site-packages/sklearn/metrics/_classification.py:1221: UndefinedMetricWarning: Precision and F-score are ill-defined and being set to 0.0 in labels with no predicted samples. Use `zero_division` parameter to control this behavior.\n",
      "  _warn_prf(average, modifier, msg_start, len(result))\n"
     ]
    }
   ],
   "source": [
    "print(confusion_matrix(y_test,pred_SVM_resample))\n",
    "print(classification_report(y_test, pred_SVM_resample))"
   ]
  },
  {
   "cell_type": "code",
   "execution_count": 63,
   "metadata": {},
   "outputs": [],
   "source": [
    "SVM_resample0 = SVC(kernel='sigmoid')\n",
    "SVM_resample0.fit(x_resampled_random, y_resampled_random)\n",
    "pred_SVM_resample0 = SVM.predict(x_test)"
   ]
  },
  {
   "cell_type": "code",
   "execution_count": 64,
   "metadata": {},
   "outputs": [
    {
     "name": "stdout",
     "output_type": "stream",
     "text": [
      "[[  0  18   0]\n",
      " [  0 400  12]\n",
      " [  0  33  17]]\n",
      "              precision    recall  f1-score   support\n",
      "\n",
      "           0       0.00      0.00      0.00        18\n",
      "           1       0.89      0.97      0.93       412\n",
      "           2       0.59      0.34      0.43        50\n",
      "\n",
      "    accuracy                           0.87       480\n",
      "   macro avg       0.49      0.44      0.45       480\n",
      "weighted avg       0.82      0.87      0.84       480\n",
      "\n"
     ]
    },
    {
     "name": "stderr",
     "output_type": "stream",
     "text": [
      "/opt/anaconda3/lib/python3.7/site-packages/sklearn/metrics/_classification.py:1221: UndefinedMetricWarning: Precision and F-score are ill-defined and being set to 0.0 in labels with no predicted samples. Use `zero_division` parameter to control this behavior.\n",
      "  _warn_prf(average, modifier, msg_start, len(result))\n"
     ]
    }
   ],
   "source": [
    "print(confusion_matrix(y_test,pred_SVM_resample0))\n",
    "print(classification_report(y_test, pred_SVM_resample0))"
   ]
  }
 ],
 "metadata": {
  "kernelspec": {
   "display_name": "Python 3",
   "language": "python",
   "name": "python3"
  },
  "language_info": {
   "codemirror_mode": {
    "name": "ipython",
    "version": 3
   },
   "file_extension": ".py",
   "mimetype": "text/x-python",
   "name": "python",
   "nbconvert_exporter": "python",
   "pygments_lexer": "ipython3",
   "version": "3.7.4"
  }
 },
 "nbformat": 4,
 "nbformat_minor": 2
}
